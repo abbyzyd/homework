{
  "nbformat": 4,
  "nbformat_minor": 0,
  "metadata": {
    "colab": {
      "name": "训练googlenet模型.ipynb",
      "provenance": [],
      "collapsed_sections": []
    },
    "kernelspec": {
      "name": "python3",
      "display_name": "Python 3"
    },
    "accelerator": "GPU"
  },
  "cells": [
    {
      "cell_type": "code",
      "metadata": {
        "id": "H8t76wqNtkpS",
        "colab_type": "code",
        "colab": {}
      },
      "source": [
        "import torch\n",
        "import torch.nn as nn \n",
        "import torch.nn.functional as F\n",
        "import torch.optim as optim\n",
        "import torchvision\n",
        "import torchvision.transforms as transforms\n",
        "import torchvision.datasets as datasets\n",
        "import os \n",
        "import random\n",
        "import numpy as np "
      ],
      "execution_count": 12,
      "outputs": []
    },
    {
      "cell_type": "code",
      "metadata": {
        "id": "skn3Z35DZjkF",
        "colab_type": "code",
        "colab": {
          "base_uri": "https://localhost:8080/",
          "height": 121
        },
        "outputId": "d22a67c9-0527-4ac8-c93e-46cbf4f08014"
      },
      "source": [
        "from google.colab import drive\n",
        "drive.mount('/content/drive')"
      ],
      "execution_count": 2,
      "outputs": [
        {
          "output_type": "stream",
          "text": [
            "Go to this URL in a browser: https://accounts.google.com/o/oauth2/auth?client_id=947318989803-6bn6qk8qdgf4n4g3pfee6491hc0brc4i.apps.googleusercontent.com&redirect_uri=urn%3aietf%3awg%3aoauth%3a2.0%3aoob&response_type=code&scope=email%20https%3a%2f%2fwww.googleapis.com%2fauth%2fdocs.test%20https%3a%2f%2fwww.googleapis.com%2fauth%2fdrive%20https%3a%2f%2fwww.googleapis.com%2fauth%2fdrive.photos.readonly%20https%3a%2f%2fwww.googleapis.com%2fauth%2fpeopleapi.readonly\n",
            "\n",
            "Enter your authorization code:\n",
            "··········\n",
            "Mounted at /content/drive\n"
          ],
          "name": "stdout"
        }
      ]
    },
    {
      "cell_type": "markdown",
      "metadata": {
        "id": "s4z8rnzoRbs5",
        "colab_type": "text"
      },
      "source": [
        "# 图像的Normalize"
      ]
    },
    {
      "cell_type": "code",
      "metadata": {
        "id": "pxoEX8Mmtopq",
        "colab_type": "code",
        "colab": {}
      },
      "source": [
        "data_trans=transforms.Compose([\n",
        "    transforms.RandomHorizontalFlip(),\n",
        "    transforms.RandomRotation(10),\n",
        "    transforms.RandomCrop(32,padding=3),\n",
        "    transforms.ToTensor(),\n",
        "    transforms.Normalize((0.49139968, 0.48215827, 0.44653124), (0.24703233, 0.24348505, 0.26158768))#参数mean和std来自于训练集，但是transform本身会在训练和评测的时候都会使用\n",
        "])"
      ],
      "execution_count": 13,
      "outputs": []
    },
    {
      "cell_type": "code",
      "metadata": {
        "id": "1AtDoV-jtuvV",
        "colab_type": "code",
        "colab": {}
      },
      "source": [
        "data_trans_227=transforms.Compose([\n",
        "    transforms.RandomHorizontalFlip(),\n",
        "    transforms.RandomRotation(10),\n",
        "    transforms.RandomCrop(32,padding=3),\n",
        "    transforms.Resize(227),\n",
        "    transforms.ToTensor(),\n",
        "    transforms.Normalize((0.49139968, 0.48215827, 0.44653124), (0.24703233, 0.24348505, 0.26158768))#参数mean和std来自于训练集，但是transform本身会在训练和评测的时候都会使用\n",
        "])"
      ],
      "execution_count": 14,
      "outputs": []
    },
    {
      "cell_type": "code",
      "metadata": {
        "id": "vc5VcJsLtxgk",
        "colab_type": "code",
        "colab": {}
      },
      "source": [
        "data_test=transforms.Compose([\n",
        "    transforms.ToTensor(),\n",
        "    transforms.Normalize((0.49139968, 0.48215827, 0.44653124), (0.24703233, 0.24348505, 0.26158768))\n",
        "])"
      ],
      "execution_count": 15,
      "outputs": []
    },
    {
      "cell_type": "code",
      "metadata": {
        "id": "2M-OXWbRtzx0",
        "colab_type": "code",
        "colab": {}
      },
      "source": [
        "data_test_227=transforms.Compose([\n",
        "    transforms.ToTensor(),\n",
        "    transforms.Resize(227),\n",
        "    transforms.Normalize((0.49139968, 0.48215827, 0.44653124), (0.24703233, 0.24348505, 0.26158768))\n",
        "])"
      ],
      "execution_count": 16,
      "outputs": []
    },
    {
      "cell_type": "code",
      "metadata": {
        "id": "J-1SWco6t5Og",
        "colab_type": "code",
        "colab": {
          "base_uri": "https://localhost:8080/",
          "height": 50
        },
        "outputId": "aeaac1ed-85d6-4614-a32c-d18cc3d388ac"
      },
      "source": [
        "train_data=datasets.CIFAR10('data',train=True,download=True,transform=data_trans)\n",
        "test_data=datasets.CIFAR10('data',train=False,download=True,transform=data_trans)"
      ],
      "execution_count": 17,
      "outputs": [
        {
          "output_type": "stream",
          "text": [
            "Files already downloaded and verified\n",
            "Files already downloaded and verified\n"
          ],
          "name": "stdout"
        }
      ]
    },
    {
      "cell_type": "code",
      "metadata": {
        "id": "i3Ubz6ufuAZl",
        "colab_type": "code",
        "colab": {}
      },
      "source": [
        "n_train=int(len(train_data)*0.9)\n",
        "n_validation=len(train_data)-n_train"
      ],
      "execution_count": 18,
      "outputs": []
    },
    {
      "cell_type": "code",
      "metadata": {
        "id": "vqQtiiJYuEcW",
        "colab_type": "code",
        "colab": {}
      },
      "source": [
        "train_data,valid_data=torch.utils.data.random_split(train_data,[n_train,n_validation])"
      ],
      "execution_count": 19,
      "outputs": []
    },
    {
      "cell_type": "code",
      "metadata": {
        "id": "yK2NSCdUuHUi",
        "colab_type": "code",
        "colab": {
          "base_uri": "https://localhost:8080/",
          "height": 34
        },
        "outputId": "1ec3ac57-faec-4797-8de2-b97c946015f2"
      },
      "source": [
        "print(len(train_data),len(valid_data),len(test_data))"
      ],
      "execution_count": 20,
      "outputs": [
        {
          "output_type": "stream",
          "text": [
            "45000 5000 10000\n"
          ],
          "name": "stdout"
        }
      ]
    },
    {
      "cell_type": "code",
      "metadata": {
        "id": "ZEB2H-qouNKq",
        "colab_type": "code",
        "colab": {}
      },
      "source": [
        "batch_size=64"
      ],
      "execution_count": 21,
      "outputs": []
    },
    {
      "cell_type": "code",
      "metadata": {
        "id": "BxZOfxMTuN1S",
        "colab_type": "code",
        "colab": {}
      },
      "source": [
        "train_iterator=torch.utils.data.DataLoader(train_data,shuffle=True,batch_size=batch_size)\n",
        "valid_iterator=torch.utils.data.DataLoader(valid_data,batch_size=batch_size)\n",
        "test_iterator=torch.utils.data.DataLoader(test_data,batch_size=batch_size)"
      ],
      "execution_count": 23,
      "outputs": []
    },
    {
      "cell_type": "markdown",
      "metadata": {
        "id": "4q9E7WIASc_U",
        "colab_type": "text"
      },
      "source": [
        "# 定义GoogLeNet模型"
      ]
    },
    {
      "cell_type": "code",
      "metadata": {
        "id": "0AMI74RPeYen",
        "colab_type": "code",
        "colab": {}
      },
      "source": [
        "class Inception(nn.Module):\n",
        "    def __init__(self,in_planes,n1x1,n3x3red,n3x3,n5x5red,n5x5,pool_planes):\n",
        "        super(Inception,self).__init__()\n",
        "        self.b1=nn.Sequential(\n",
        "            nn.Conv2d(in_planes,n1x1,kernel_size=1),\n",
        "            nn.BatchNorm2d(n1x1),\n",
        "            nn.ReLU(True),\n",
        "        )\n",
        "        \n",
        "        self.b2=nn.Sequential(\n",
        "            nn.Conv2d(in_planes,n3x3red,kernel_size=1),\n",
        "            nn.BatchNorm2d(n3x3red),\n",
        "            nn.ReLU(True),\n",
        "            nn.Conv2d(n3x3red,n3x3,kernel_size=3,padding=1),\n",
        "            nn.BatchNorm2d(n3x3),\n",
        "            nn.ReLU(True),\n",
        "        )\n",
        "        \n",
        "        self.b3=nn.Sequential(\n",
        "            nn.Conv2d(in_planes,n5x5red,kernel_size=1),\n",
        "            nn.BatchNorm2d(n5x5red),\n",
        "            nn.ReLU(True),\n",
        "            nn.Conv2d(n5x5red,n5x5,kernel_size=5,padding=2),\n",
        "            nn.BatchNorm2d(n5x5),\n",
        "            nn.ReLU(True),\n",
        "        )\n",
        "        \n",
        "        self.b4=nn.Sequential(\n",
        "            nn.MaxPool2d(3,stride=1,padding=1),\n",
        "            nn.Conv2d(in_planes,pool_planes,kernel_size=1),\n",
        "            nn.BatchNorm2d(pool_planes),\n",
        "            nn.ReLU(True),\n",
        "        )\n",
        "        \n",
        "    def forward(self,x):\n",
        "        x1=self.b1(x)\n",
        "        x2=self.b2(x)\n",
        "        x3=self.b3(x)\n",
        "        x4=self.b4(x)\n",
        "        #concat4层输入在一起\n",
        "        return torch.cat([x1,x2,x3,x4],1)\n",
        "    "
      ],
      "execution_count": 24,
      "outputs": []
    },
    {
      "cell_type": "code",
      "metadata": {
        "id": "sT1MENlrwDcO",
        "colab_type": "code",
        "colab": {}
      },
      "source": [
        "class GoogLeNet(nn.Module):\n",
        "    def __init__(self):\n",
        "        super(GoogLeNet,self).__init__()\n",
        "        self.feature_block=nn.Sequential(\n",
        "            nn.Conv2d(3,192,kernel_size=3,padding=1),\n",
        "            nn.BatchNorm2d(192),\n",
        "            nn.ReLU(True),\n",
        "        )\n",
        "        self.a3=Inception(192,64,96,128,16,32,32)\n",
        "        self.b3=Inception(256, 128, 128, 192, 32, 96, 64)\n",
        "        self.maxpool=nn.MaxPool2d(3,stride=2,padding=1)\n",
        "        self.a4 = Inception(480, 192,  96, 208, 16,  48,  64)\n",
        "        self.b4 = Inception(512, 160, 112, 224, 24,  64,  64)\n",
        "        self.c4 = Inception(512, 128, 128, 256, 24,  64,  64)\n",
        "        self.d4 = Inception(512, 112, 144, 288, 32,  64,  64)\n",
        "        self.e4 = Inception(528, 256, 160, 320, 32, 128, 128)\n",
        "        self.a5 = Inception(832, 256, 160, 320, 32, 128, 128)\n",
        "        self.b5 = Inception(832, 384, 192, 384, 48, 128, 128)\n",
        "        self.avgpool=nn.AvgPool2d(8,stride=1)\n",
        "        self.linear=nn.Linear(1024,10)\n",
        "    \n",
        "    def forward(self,x):\n",
        "        out=self.feature_block(x)\n",
        "        out=self.a3(out)\n",
        "        out=self.b3(out)\n",
        "        out=self.maxpool(out)\n",
        "        out=self.a4(out)\n",
        "        out=self.b4(out)\n",
        "        out=self.c4(out)\n",
        "        out=self.d4(out)\n",
        "        out=self.e4(out)\n",
        "        out = self.maxpool(out)\n",
        "        out = self.a5(out)\n",
        "        out = self.b5(out)\n",
        "        out = self.avgpool(out)\n",
        "        out = out.view(out.size(0), -1)\n",
        "        out = self.linear(out)\n",
        "        return out"
      ],
      "execution_count": 25,
      "outputs": []
    },
    {
      "cell_type": "markdown",
      "metadata": {
        "id": "UOLteMCBSm7p",
        "colab_type": "text"
      },
      "source": [
        "# 载入模型并训练"
      ]
    },
    {
      "cell_type": "code",
      "metadata": {
        "id": "D4LwmMj4usOQ",
        "colab_type": "code",
        "colab": {}
      },
      "source": [
        "device=torch.device('cuda' if torch.cuda.is_available() else 'cpu')"
      ],
      "execution_count": 26,
      "outputs": []
    },
    {
      "cell_type": "code",
      "metadata": {
        "id": "5bG9EhzEuvBR",
        "colab_type": "code",
        "colab": {}
      },
      "source": [
        "model_dir='/content/drive/My Drive/Colab Notebooks/models'\n",
        "if not os.path.isdir(model_dir):\n",
        "    os.makedirs(model_dir)"
      ],
      "execution_count": 27,
      "outputs": []
    },
    {
      "cell_type": "code",
      "metadata": {
        "id": "jYrzpYHiuxiH",
        "colab_type": "code",
        "colab": {
          "base_uri": "https://localhost:8080/",
          "height": 34
        },
        "outputId": "465fd265-95e1-4c4e-9d97-743ae743a3c6"
      },
      "source": [
        "device"
      ],
      "execution_count": 28,
      "outputs": [
        {
          "output_type": "execute_result",
          "data": {
            "text/plain": [
              "device(type='cuda')"
            ]
          },
          "metadata": {
            "tags": []
          },
          "execution_count": 28
        }
      ]
    },
    {
      "cell_type": "code",
      "metadata": {
        "id": "YDgZbBXvu2hm",
        "colab_type": "code",
        "colab": {}
      },
      "source": [
        "model=GoogLeNet().to(device)\n",
        "model_path=os.path.join(model_dir,'googlenet_mnist.pt')"
      ],
      "execution_count": 29,
      "outputs": []
    },
    {
      "cell_type": "code",
      "metadata": {
        "id": "QuVLo4TwvM-4",
        "colab_type": "code",
        "colab": {}
      },
      "source": [
        "optimizer=optim.Adam(model.parameters())\n",
        "criterion=nn.CrossEntropyLoss()"
      ],
      "execution_count": 30,
      "outputs": []
    },
    {
      "cell_type": "markdown",
      "metadata": {
        "id": "9DaiTTISS2D2",
        "colab_type": "text"
      },
      "source": [
        "## 定义计算精确度方法"
      ]
    },
    {
      "cell_type": "code",
      "metadata": {
        "id": "NX_sZCUkvQEM",
        "colab_type": "code",
        "colab": {}
      },
      "source": [
        "def accu(fx,y):\n",
        "    pred=fx.max(1,keepdim=True)[1]\n",
        "    correct=pred.eq(y.view_as(pred)).sum()#得到该batch的准确度\n",
        "    acc=correct.float()/pred.shape[0]\n",
        "    return acc"
      ],
      "execution_count": 31,
      "outputs": []
    },
    {
      "cell_type": "markdown",
      "metadata": {
        "id": "JPY3mVJKS8dp",
        "colab_type": "text"
      },
      "source": [
        "## 定义训练方法"
      ]
    },
    {
      "cell_type": "code",
      "metadata": {
        "id": "vwKXbAsxvQr_",
        "colab_type": "code",
        "colab": {}
      },
      "source": [
        "def train(model,device,iterator,optimizer,criterion):\n",
        "    epoch_loss=0#积累变量\n",
        "    epoch_acc=0#积累变量\n",
        "    model.train()#该函数表示PHASE=Train\n",
        "    \n",
        "    for (x,y) in iterator:#拿去每一个minibatch\n",
        "        x=x.to(device)\n",
        "        y=y.to(device)\n",
        "        optimizer.zero_grad()\n",
        "        fx=model(x)#进行forward\n",
        "        loss=criterion(fx,y)#计算Loss,train_loss\n",
        "        type(loss)\n",
        "        acc=accu(fx,y)#计算精确度，train_accu\n",
        "        loss.backward()#进行BP\n",
        "        optimizer.step()#统一更新模型\n",
        "        epoch_loss+=loss.item()\n",
        "        epoch_acc+=acc.item()\n",
        "        \n",
        "    return epoch_loss/len(iterator),epoch_acc/len(iterator)"
      ],
      "execution_count": 32,
      "outputs": []
    },
    {
      "cell_type": "markdown",
      "metadata": {
        "id": "Ky-x5l9BS-fA",
        "colab_type": "text"
      },
      "source": [
        "## 定义评测方法"
      ]
    },
    {
      "cell_type": "code",
      "metadata": {
        "id": "UJ0Kfn6XvTOH",
        "colab_type": "code",
        "colab": {}
      },
      "source": [
        "def evaluate(model,device,iterator,criterion):\n",
        "    epoch_loss=0\n",
        "    epoch_acc=0\n",
        "    model.eval()\n",
        "    with torch.no_grad():\n",
        "        for (x,y) in iterator:\n",
        "            x=x.to(device)\n",
        "            y=y.to(device)\n",
        "            fx=model(x)\n",
        "            loss=criterion(fx,y)\n",
        "            acc=accu(fx,y)\n",
        "            epoch_loss+=loss.item()\n",
        "            epoch_acc+=acc.item()\n",
        "    return epoch_loss/len(iterator),epoch_acc/len(iterator)"
      ],
      "execution_count": 33,
      "outputs": []
    },
    {
      "cell_type": "code",
      "metadata": {
        "id": "0l_4tk-cvV-P",
        "colab_type": "code",
        "colab": {}
      },
      "source": [
        "epochs=30\n",
        "best_valid_loss=float('inf')"
      ],
      "execution_count": 34,
      "outputs": []
    },
    {
      "cell_type": "code",
      "metadata": {
        "id": "hMQ-ylt8vlGY",
        "colab_type": "code",
        "colab": {
          "base_uri": "https://localhost:8080/",
          "height": 521
        },
        "outputId": "2545e264-a645-41d1-b19d-f6e8f1606c1f"
      },
      "source": [
        "for epoch in range(epochs):\n",
        "    train_loss,train_acc=train(model,device,train_iterator,optimizer,criterion)\n",
        "    valid_loss,valid_acc=evaluate(model,device,valid_iterator,criterion)\n",
        "    if valid_loss<best_valid_loss:#如果是最好的模型就保存到文件夹\n",
        "        best_valid_loss=valid_loss\n",
        "        torch.save(model.state_dict(),model_path)\n",
        "    print('Epoch:{0}|Train Loss:{1}|Train Acc:{2}|Val Loss:{3}|Val Acc:{4}'.format(epoch+1,train_loss,train_acc,valid_loss,valid_acc))"
      ],
      "execution_count": null,
      "outputs": [
        {
          "output_type": "stream",
          "text": [
            "Epoch:1|Train Loss:1.3853845896030015|Train Acc:0.48539595170454547|Val Loss:1.5747301910496965|Val Acc:0.504746835443038\n",
            "Epoch:2|Train Loss:0.9453265175900676|Train Acc:0.6628196022727273|Val Loss:0.8707884346382527|Val Acc:0.6948180379746836\n",
            "Epoch:3|Train Loss:0.7367098293775185|Train Acc:0.7425648082386364|Val Loss:0.763702517823328|Val Acc:0.728243670886076\n",
            "Epoch:4|Train Loss:0.6261421413668855|Train Acc:0.7822487571022727|Val Loss:0.5904473669921295|Val Acc:0.7998417721518988\n",
            "Epoch:5|Train Loss:0.5390790349549868|Train Acc:0.8138760653409091|Val Loss:0.6017727195462094|Val Acc:0.7962816455696202\n",
            "Epoch:6|Train Loss:0.4887456259139898|Train Acc:0.8301225142045454|Val Loss:0.49572475348846823|Val Acc:0.8263449367088608\n",
            "Epoch:7|Train Loss:0.4452460249250924|Train Acc:0.8451038707386364|Val Loss:0.5220960378646851|Val Acc:0.8239715189873418\n",
            "Epoch:8|Train Loss:0.4059314794457433|Train Acc:0.8593084161931818|Val Loss:0.4795627469503427|Val Acc:0.8395965189873418\n",
            "Epoch:9|Train Loss:0.37141654679594055|Train Acc:0.8698952414772727|Val Loss:0.5737068804004525|Val Acc:0.8117088607594937\n",
            "Epoch:10|Train Loss:0.3467001994881271|Train Acc:0.8792169744318182|Val Loss:0.4259247732690618|Val Acc:0.8560126582278481\n",
            "Epoch:11|Train Loss:0.31684051116462797|Train Acc:0.8916681463068182|Val Loss:0.4186999882701077|Val Acc:0.8589794303797469\n",
            "Epoch:12|Train Loss:0.2991653731918301|Train Acc:0.8955522017045454|Val Loss:0.41555450649201114|Val Acc:0.854628164556962\n",
            "Epoch:13|Train Loss:0.2724367676472122|Train Acc:0.9040083451704546|Val Loss:0.4197497682858117|Val Acc:0.867879746835443\n",
            "Epoch:14|Train Loss:0.2542052808408202|Train Acc:0.9110218394886364|Val Loss:0.36106295591290993|Val Acc:0.8809335443037974\n",
            "Epoch:15|Train Loss:0.24095579067943618|Train Acc:0.9159934303977273|Val Loss:0.35004537429990645|Val Acc:0.8846914556962026\n",
            "Epoch:16|Train Loss:0.22489072696771473|Train Acc:0.9208762428977273|Val Loss:0.3437887518843518|Val Acc:0.8860759493670886\n",
            "Epoch:17|Train Loss:0.2112692546374588|Train Acc:0.9249822443181818|Val Loss:0.36733100893376747|Val Acc:0.8781645569620253\n",
            "Epoch:18|Train Loss:0.2008542698220646|Train Acc:0.9297318892045454|Val Loss:0.39582666151131257|Val Acc:0.875\n",
            "Epoch:19|Train Loss:0.186224023478148|Train Acc:0.9335493607954546|Val Loss:0.359416587820536|Val Acc:0.8888449367088608\n",
            "Epoch:20|Train Loss:0.17845684706117027|Train Acc:0.9373224431818182|Val Loss:0.3632565600019467|Val Acc:0.884493670886076\n",
            "Epoch:21|Train Loss:0.16440361042623408|Train Acc:0.9412508877840909|Val Loss:0.3597156761001937|Val Acc:0.8831091772151899\n",
            "Epoch:22|Train Loss:0.15489793520695952|Train Acc:0.9450461647727273|Val Loss:0.3468657003927834|Val Acc:0.890625\n",
            "Epoch:23|Train Loss:0.14810728406353685|Train Acc:0.9481977982954546|Val Loss:0.3777150364616249|Val Acc:0.881131329113924\n",
            "Epoch:24|Train Loss:0.1395977011045695|Train Acc:0.9500177556818182|Val Loss:0.3889295914316479|Val Acc:0.8862737341772152\n",
            "Epoch:25|Train Loss:0.1365075197192544|Train Acc:0.9505060369318182|Val Loss:0.3566959988844546|Val Acc:0.8914161392405063\n",
            "Epoch:26|Train Loss:0.12470428905428642|Train Acc:0.9562100497159091|Val Loss:0.3580374983669836|Val Acc:0.8892405063291139\n",
            "Epoch:27|Train Loss:0.11811629741383843|Train Acc:0.9588068181818182|Val Loss:0.33605378040973144|Val Acc:0.9044699367088608\n",
            "Epoch:28|Train Loss:0.11202713788688098|Train Acc:0.9593838778409091|Val Loss:0.3694224392500105|Val Acc:0.8947784810126582\n",
            "Epoch:29|Train Loss:0.11253322906453501|Train Acc:0.9603826349431818|Val Loss:0.3659571814763395|Val Acc:0.8971518987341772\n",
            "Epoch:30|Train Loss:0.10528792717377655|Train Acc:0.9622247869318182|Val Loss:0.3709420424096192|Val Acc:0.8957674050632911\n"
          ],
          "name": "stdout"
        }
      ]
    },
    {
      "cell_type": "code",
      "metadata": {
        "id": "4CMEUGW_tYxe",
        "colab_type": "code",
        "colab": {
          "base_uri": "https://localhost:8080/",
          "height": 34
        },
        "outputId": "48761113-3e0a-44cb-9cf0-51c9c3ffdc9b"
      },
      "source": [
        "model.load_state_dict(torch.load(model_path))\n",
        "test_loss, test_acc = evaluate(model, device, test_iterator, criterion)\n",
        "print('| Test Loss: {0} | Test Acc: {1} |'.format(test_loss,test_acc))"
      ],
      "execution_count": null,
      "outputs": [
        {
          "output_type": "stream",
          "text": [
            "| Test Loss: 0.36430715475302594 | Test Acc: 0.8950039808917197 |\n"
          ],
          "name": "stdout"
        }
      ]
    },
    {
      "cell_type": "markdown",
      "metadata": {
        "id": "rhVm3cioTJO4",
        "colab_type": "text"
      },
      "source": [
        "# 模型的评测"
      ]
    },
    {
      "cell_type": "code",
      "metadata": {
        "id": "w0aFHZd-tygw",
        "colab_type": "code",
        "colab": {}
      },
      "source": [
        "import numpy as np\n",
        "import matplotlib.pyplot as plt\n",
        "from itertools import cycle\n",
        "from sklearn import svm, datasets\n",
        "from sklearn.metrics import roc_curve, auc,precision_recall_curve,average_precision_score\n",
        "from sklearn.model_selection import train_test_split\n",
        "from sklearn.preprocessing import label_binarize\n",
        "from sklearn.multiclass import OneVsRestClassifier\n",
        "from scipy import interp"
      ],
      "execution_count": 35,
      "outputs": []
    },
    {
      "cell_type": "code",
      "metadata": {
        "id": "6GmedOBpvL8v",
        "colab_type": "code",
        "colab": {}
      },
      "source": [
        "prediction=[]\n",
        "groundtruth=[]"
      ],
      "execution_count": 36,
      "outputs": []
    },
    {
      "cell_type": "code",
      "metadata": {
        "id": "O0RJpwDVuHXH",
        "colab_type": "code",
        "colab": {}
      },
      "source": [
        "def evaluate2(model,device,iterator,criterion):\n",
        "  epoch_loss=0\n",
        "  epoch_acc=0\n",
        "  model.eval()\n",
        "  with torch.no_grad():\n",
        "    for (x,y) in iterator:\n",
        "      x=x.to(device)\n",
        "      y=y.to(device)\n",
        "      fx=model(x)\n",
        "      loss=criterion(fx,y)\n",
        "      prediction.append(fx)\n",
        "      groundtruth.append(y)\n",
        "      acc=accu(fx,y)\n",
        "      epoch_loss+=loss.item()\n",
        "      epoch_acc+=acc.item()\n",
        "  return epoch_loss/len(iterator),epoch_acc/len(iterator)"
      ],
      "execution_count": 37,
      "outputs": []
    },
    {
      "cell_type": "code",
      "metadata": {
        "id": "oGOxW4qeu03P",
        "colab_type": "code",
        "colab": {
          "base_uri": "https://localhost:8080/",
          "height": 34
        },
        "outputId": "023dff6b-3b73-44f6-e6d9-06e7f017f8de"
      },
      "source": [
        "model.load_state_dict(torch.load(model_path))\n",
        "test_loss, test_acc = evaluate2(model, device, test_iterator, criterion)\n",
        "print('| Test Loss: {0} | Test Acc: {1} |'.format(test_loss,test_acc))"
      ],
      "execution_count": 38,
      "outputs": [
        {
          "output_type": "stream",
          "text": [
            "| Test Loss: 0.3589741385002045 | Test Acc: 0.897093949044586 |\n"
          ],
          "name": "stdout"
        }
      ]
    },
    {
      "cell_type": "code",
      "metadata": {
        "id": "uv_p6hEXTfG0",
        "colab_type": "code",
        "colab": {}
      },
      "source": [
        "pred=torch.cat(prediction).cpu().numpy()"
      ],
      "execution_count": 39,
      "outputs": []
    },
    {
      "cell_type": "code",
      "metadata": {
        "id": "Pj0cIcKDTlJD",
        "colab_type": "code",
        "colab": {
          "base_uri": "https://localhost:8080/",
          "height": 34
        },
        "outputId": "93f5d53a-ce43-491f-85cb-f79215e45f22"
      },
      "source": [
        "pred.shape"
      ],
      "execution_count": 40,
      "outputs": [
        {
          "output_type": "execute_result",
          "data": {
            "text/plain": [
              "(10000, 10)"
            ]
          },
          "metadata": {
            "tags": []
          },
          "execution_count": 40
        }
      ]
    },
    {
      "cell_type": "code",
      "metadata": {
        "id": "FNY64fHmTm5l",
        "colab_type": "code",
        "colab": {
          "base_uri": "https://localhost:8080/",
          "height": 67
        },
        "outputId": "4312c74c-c9c6-443a-9e44-d7adf884467a"
      },
      "source": [
        "pred[0]"
      ],
      "execution_count": 41,
      "outputs": [
        {
          "output_type": "execute_result",
          "data": {
            "text/plain": [
              "array([ -7.7369275, -13.3294325,  -7.250525 ,   2.1735716,  -8.96631  ,\n",
              "         0.7526249,  -4.722032 ,  -5.252516 ,  -6.1589355, -16.670345 ],\n",
              "      dtype=float32)"
            ]
          },
          "metadata": {
            "tags": []
          },
          "execution_count": 41
        }
      ]
    },
    {
      "cell_type": "code",
      "metadata": {
        "id": "JVAo6RFhTorg",
        "colab_type": "code",
        "colab": {}
      },
      "source": [
        "gt=torch.cat(groundtruth).cpu().numpy()"
      ],
      "execution_count": 42,
      "outputs": []
    },
    {
      "cell_type": "code",
      "metadata": {
        "id": "PEtdFbwpTp8m",
        "colab_type": "code",
        "colab": {
          "base_uri": "https://localhost:8080/",
          "height": 34
        },
        "outputId": "49df0da1-494c-4da4-aa72-99e12c0c63a8"
      },
      "source": [
        "gt.shape"
      ],
      "execution_count": 43,
      "outputs": [
        {
          "output_type": "execute_result",
          "data": {
            "text/plain": [
              "(10000,)"
            ]
          },
          "metadata": {
            "tags": []
          },
          "execution_count": 43
        }
      ]
    },
    {
      "cell_type": "code",
      "metadata": {
        "id": "YNW8_Fo2Tr42",
        "colab_type": "code",
        "colab": {}
      },
      "source": [
        "fpr=dict()\n",
        "tpr=dict()\n",
        "prc=dict()\n",
        "rcl=dict()\n",
        "roc_auc=dict()\n",
        "ap=dict()"
      ],
      "execution_count": 44,
      "outputs": []
    },
    {
      "cell_type": "code",
      "metadata": {
        "id": "G0zTPp0qTtws",
        "colab_type": "code",
        "colab": {}
      },
      "source": [
        "gt_one_hot=np.eye(10)[gt.reshape(-1)]#groundtruth的onehot化"
      ],
      "execution_count": 45,
      "outputs": []
    },
    {
      "cell_type": "code",
      "metadata": {
        "id": "G2J4Tng8TvUt",
        "colab_type": "code",
        "colab": {
          "base_uri": "https://localhost:8080/",
          "height": 34
        },
        "outputId": "b8e85e7a-1385-4d07-94b2-515749976f4b"
      },
      "source": [
        "gt_one_hot[0]"
      ],
      "execution_count": 46,
      "outputs": [
        {
          "output_type": "execute_result",
          "data": {
            "text/plain": [
              "array([0., 0., 0., 1., 0., 0., 0., 0., 0., 0.])"
            ]
          },
          "metadata": {
            "tags": []
          },
          "execution_count": 46
        }
      ]
    },
    {
      "cell_type": "code",
      "metadata": {
        "id": "OS1LIu9XTykH",
        "colab_type": "code",
        "colab": {
          "base_uri": "https://localhost:8080/",
          "height": 70
        },
        "outputId": "ac1deb65-2f9d-4671-c2c4-366bbf4dc921"
      },
      "source": [
        "pred_soft=F.softmax(torch.cat(prediction).cpu()).cpu().numpy()"
      ],
      "execution_count": 47,
      "outputs": [
        {
          "output_type": "stream",
          "text": [
            "/usr/local/lib/python3.6/dist-packages/ipykernel_launcher.py:1: UserWarning: Implicit dimension choice for softmax has been deprecated. Change the call to include dim=X as an argument.\n",
            "  \"\"\"Entry point for launching an IPython kernel.\n"
          ],
          "name": "stderr"
        }
      ]
    },
    {
      "cell_type": "code",
      "metadata": {
        "id": "KyMsGJH3T0QV",
        "colab_type": "code",
        "colab": {
          "base_uri": "https://localhost:8080/",
          "height": 67
        },
        "outputId": "8a7dbda3-f0ec-47de-e6ff-99a359ae569e"
      },
      "source": [
        "pred_soft[0]"
      ],
      "execution_count": 48,
      "outputs": [
        {
          "output_type": "execute_result",
          "data": {
            "text/plain": [
              "array([3.9928804e-05, 1.4876217e-07, 6.4942389e-05, 8.0419540e-01,\n",
              "       1.1678113e-05, 1.9420138e-01, 8.1402727e-04, 4.7890880e-04,\n",
              "       1.9346381e-04, 5.2668634e-09], dtype=float32)"
            ]
          },
          "metadata": {
            "tags": []
          },
          "execution_count": 48
        }
      ]
    },
    {
      "cell_type": "code",
      "metadata": {
        "id": "6wMcM_ZqT16B",
        "colab_type": "code",
        "colab": {}
      },
      "source": [
        "for i in range(10):\n",
        "    fpr[i],tpr[i],_=roc_curve(gt_one_hot[:,i],pred_soft[:,i])\n",
        "    roc_auc[i]=auc(fpr[i],tpr[i])\n",
        "    prc[i],rcl[i],_=precision_recall_curve(gt_one_hot[:,i],pred_soft[:,i])\n",
        "    ap[i]=average_precision_score(gt_one_hot[:,i],pred_soft[:,i])"
      ],
      "execution_count": 49,
      "outputs": []
    },
    {
      "cell_type": "code",
      "metadata": {
        "id": "75__mQ63T3b0",
        "colab_type": "code",
        "colab": {
          "base_uri": "https://localhost:8080/",
          "height": 34
        },
        "outputId": "aaf1f977-3448-4cb1-c64f-ba424d0bc35d"
      },
      "source": [
        "tpr[0].shape"
      ],
      "execution_count": 50,
      "outputs": [
        {
          "output_type": "execute_result",
          "data": {
            "text/plain": [
              "(341,)"
            ]
          },
          "metadata": {
            "tags": []
          },
          "execution_count": 50
        }
      ]
    },
    {
      "cell_type": "code",
      "metadata": {
        "id": "vGKYq9kMT46e",
        "colab_type": "code",
        "colab": {
          "base_uri": "https://localhost:8080/",
          "height": 282
        },
        "outputId": "3d0c78dd-ab32-4428-e4a8-8e129d966e48"
      },
      "source": [
        "for i in range(10):\n",
        "    plt.plot(fpr[i],tpr[i],lw=2,label='ROC curve for class %d with Area %0.2f'%(i,roc_auc[i]))\n",
        "plt.legend()"
      ],
      "execution_count": 51,
      "outputs": [
        {
          "output_type": "execute_result",
          "data": {
            "text/plain": [
              "<matplotlib.legend.Legend at 0x7fa60dda0da0>"
            ]
          },
          "metadata": {
            "tags": []
          },
          "execution_count": 51
        },
        {
          "output_type": "display_data",
          "data": {
            "image/png": "[encoded data removed]",
            "text/plain": [
              "<Figure size 432x288 with 1 Axes>"
            ]
          },
          "metadata": {
            "tags": [],
            "needs_background": "light"
          }
        }
      ]
    },
    {
      "cell_type": "code",
      "metadata": {
        "id": "QVRLrU5VT6iG",
        "colab_type": "code",
        "colab": {
          "base_uri": "https://localhost:8080/",
          "height": 282
        },
        "outputId": "68d596b5-570f-4030-f308-5c761a64a993"
      },
      "source": [
        "for i in range(10):\n",
        "    plt.plot(rcl[i],prc[i],lw=2,label='PR curve for class %d with Area %0.2f'%(i,ap[i]))\n",
        "plt.legend()"
      ],
      "execution_count": 52,
      "outputs": [
        {
          "output_type": "execute_result",
          "data": {
            "text/plain": [
              "<matplotlib.legend.Legend at 0x7fa60f775668>"
            ]
          },
          "metadata": {
            "tags": []
          },
          "execution_count": 52
        },
        {
          "output_type": "display_data",
          "data": {
            "image/png": "[encoded data removed]",
            "text/plain": [
              "<Figure size 432x288 with 1 Axes>"
            ]
          },
          "metadata": {
            "tags": [],
            "needs_background": "light"
          }
        }
      ]
    },
    {
      "cell_type": "markdown",
      "metadata": {
        "id": "IR58bD-sUEmq",
        "colab_type": "text"
      },
      "source": [
        "## Micro的实现\n",
        "\n",
        "Micro认为所有的分类1......k都是同一类，因此将所有的gt和预测的结果合并成为1个数组来进行评判"
      ]
    },
    {
      "cell_type": "code",
      "metadata": {
        "id": "MdRBW8aqUHfZ",
        "colab_type": "code",
        "colab": {
          "base_uri": "https://localhost:8080/",
          "height": 34
        },
        "outputId": "27fe7d95-b80f-48a9-9c0a-569536d2d98c"
      },
      "source": [
        "gt_one_hot.ravel().shape"
      ],
      "execution_count": 54,
      "outputs": [
        {
          "output_type": "execute_result",
          "data": {
            "text/plain": [
              "(100000,)"
            ]
          },
          "metadata": {
            "tags": []
          },
          "execution_count": 54
        }
      ]
    },
    {
      "cell_type": "code",
      "metadata": {
        "id": "q6mbMxgQULQ4",
        "colab_type": "code",
        "colab": {
          "base_uri": "https://localhost:8080/",
          "height": 34
        },
        "outputId": "16c6ecdd-5618-48d3-9749-1df8c3e7de00"
      },
      "source": [
        "pred_soft.ravel().shape"
      ],
      "execution_count": 55,
      "outputs": [
        {
          "output_type": "execute_result",
          "data": {
            "text/plain": [
              "(100000,)"
            ]
          },
          "metadata": {
            "tags": []
          },
          "execution_count": 55
        }
      ]
    },
    {
      "cell_type": "code",
      "metadata": {
        "id": "iBw8cltnUPCp",
        "colab_type": "code",
        "colab": {}
      },
      "source": [
        "fpr['micro'],tpr['micro'],_=roc_curve(gt_one_hot.ravel(),pred_soft.ravel())"
      ],
      "execution_count": 56,
      "outputs": []
    },
    {
      "cell_type": "code",
      "metadata": {
        "id": "BqHtzP4CUQzk",
        "colab_type": "code",
        "colab": {}
      },
      "source": [
        "prc['micro'],rcl['micro'],_=precision_recall_curve(gt_one_hot.ravel(),pred_soft.ravel())"
      ],
      "execution_count": 57,
      "outputs": []
    },
    {
      "cell_type": "code",
      "metadata": {
        "id": "gSmSSU3aUSly",
        "colab_type": "code",
        "colab": {}
      },
      "source": [
        "ap['micro']=average_precision_score(gt_one_hot.ravel(),pred_soft.ravel(),average='micro')"
      ],
      "execution_count": 58,
      "outputs": []
    },
    {
      "cell_type": "code",
      "metadata": {
        "id": "9fUfMsaFUUKI",
        "colab_type": "code",
        "colab": {}
      },
      "source": [
        "roc_auc['micro']=auc(fpr['micro'],tpr['micro'])"
      ],
      "execution_count": 59,
      "outputs": []
    },
    {
      "cell_type": "code",
      "metadata": {
        "id": "z8tU1EFoUVlj",
        "colab_type": "code",
        "colab": {
          "base_uri": "https://localhost:8080/",
          "height": 282
        },
        "outputId": "b61585d1-0907-44c4-8ac5-3f615b68cfda"
      },
      "source": [
        "for i in range(10):\n",
        "    plt.plot(rcl[i],prc[i],lw=2,label='PR curve for class %d with Area %0.2f'%(i,ap[i]))\n",
        "plt.plot(prc['micro'],rcl['micro'],lw=5,linestyle=\":\",label='PR Micro Curve with Area %0.2f'%(ap['micro']))\n",
        "    \n",
        "plt.legend()"
      ],
      "execution_count": 60,
      "outputs": [
        {
          "output_type": "execute_result",
          "data": {
            "text/plain": [
              "<matplotlib.legend.Legend at 0x7fa60d7cf7b8>"
            ]
          },
          "metadata": {
            "tags": []
          },
          "execution_count": 60
        },
        {
          "output_type": "display_data",
          "data": {
            "image/png": "[encoded data removed]",
            "text/plain": [
              "<Figure size 432x288 with 1 Axes>"
            ]
          },
          "metadata": {
            "tags": [],
            "needs_background": "light"
          }
        }
      ]
    },
    {
      "cell_type": "code",
      "metadata": {
        "id": "jBQg_62FUXj9",
        "colab_type": "code",
        "colab": {
          "base_uri": "https://localhost:8080/",
          "height": 282
        },
        "outputId": "48865f9e-b904-42ef-e3cd-5e5dec89687c"
      },
      "source": [
        "for i in range(10):\n",
        "    plt.plot(fpr[i],tpr[i],lw=2,label='ROC curve for class %d with Area %0.2f'%(i,roc_auc[i]))\n",
        "plt.plot(fpr['micro'],tpr['micro'],lw=5,linestyle=\":\",label='ROC Micro Curve with Area %0.2f'%(roc_auc['micro']))\n",
        " \n",
        "plt.legend()"
      ],
      "execution_count": 61,
      "outputs": [
        {
          "output_type": "execute_result",
          "data": {
            "text/plain": [
              "<matplotlib.legend.Legend at 0x7fa60d705630>"
            ]
          },
          "metadata": {
            "tags": []
          },
          "execution_count": 61
        },
        {
          "output_type": "display_data",
          "data": {
            "image/png": "[encoded data removed]",
            "text/plain": [
              "<Figure size 432x288 with 1 Axes>"
            ]
          },
          "metadata": {
            "tags": [],
            "needs_background": "light"
          }
        }
      ]
    },
    {
      "cell_type": "markdown",
      "metadata": {
        "id": "M8_VZw69UcF2",
        "colab_type": "text"
      },
      "source": [
        "## Macro的计算"
      ]
    },
    {
      "cell_type": "code",
      "metadata": {
        "id": "J3By505uUfEV",
        "colab_type": "code",
        "colab": {}
      },
      "source": [
        "all_fpr=np.unique(np.concatenate([fpr[i] for i in range(10)]))#获得所有的fpr插值点"
      ],
      "execution_count": 62,
      "outputs": []
    },
    {
      "cell_type": "code",
      "metadata": {
        "id": "lLnVb3XuUhIt",
        "colab_type": "code",
        "colab": {
          "base_uri": "https://localhost:8080/",
          "height": 34
        },
        "outputId": "5c51d5f8-9371-466a-f12d-2bf78989da36"
      },
      "source": [
        "np.concatenate([fpr[i] for i in range(10)]).shape"
      ],
      "execution_count": 63,
      "outputs": [
        {
          "output_type": "execute_result",
          "data": {
            "text/plain": [
              "(3573,)"
            ]
          },
          "metadata": {
            "tags": []
          },
          "execution_count": 63
        }
      ]
    },
    {
      "cell_type": "code",
      "metadata": {
        "id": "rtYA7zfPUkEN",
        "colab_type": "code",
        "colab": {}
      },
      "source": [
        "all_prc=np.unique(np.concatenate([prc[i] for i in range(10)]))#获得所有的prc的插值点"
      ],
      "execution_count": 64,
      "outputs": []
    },
    {
      "cell_type": "code",
      "metadata": {
        "id": "rz0XP406UmMe",
        "colab_type": "code",
        "colab": {}
      },
      "source": [
        "mean_tpr=np.zeros_like(all_fpr)\n",
        "mean_rcl=np.zeros_like(all_prc)"
      ],
      "execution_count": 65,
      "outputs": []
    },
    {
      "cell_type": "code",
      "metadata": {
        "id": "y_-wI7xxUoDh",
        "colab_type": "code",
        "colab": {
          "base_uri": "https://localhost:8080/",
          "height": 34
        },
        "outputId": "cfaf9374-dfce-432e-a0ab-156d3c7d56cb"
      },
      "source": [
        "mean_tpr.shape"
      ],
      "execution_count": 66,
      "outputs": [
        {
          "output_type": "execute_result",
          "data": {
            "text/plain": [
              "(645,)"
            ]
          },
          "metadata": {
            "tags": []
          },
          "execution_count": 66
        }
      ]
    },
    {
      "cell_type": "code",
      "metadata": {
        "id": "vKiFzBqdUq9c",
        "colab_type": "code",
        "colab": {
          "base_uri": "https://localhost:8080/",
          "height": 104
        },
        "outputId": "89a6f444-e260-4f57-beae-43153bdd0862"
      },
      "source": [
        "for i in range(10):\n",
        "    mean_tpr+=interp(all_fpr,fpr[i],tpr[i])\n",
        "    mean_rcl+=interp(all_prc,prc[i],rcl[i])"
      ],
      "execution_count": 67,
      "outputs": [
        {
          "output_type": "stream",
          "text": [
            "/usr/local/lib/python3.6/dist-packages/ipykernel_launcher.py:2: DeprecationWarning: scipy.interp is deprecated and will be removed in SciPy 2.0.0, use numpy.interp instead\n",
            "  \n",
            "/usr/local/lib/python3.6/dist-packages/ipykernel_launcher.py:3: DeprecationWarning: scipy.interp is deprecated and will be removed in SciPy 2.0.0, use numpy.interp instead\n",
            "  This is separate from the ipykernel package so we can avoid doing imports until\n"
          ],
          "name": "stderr"
        }
      ]
    },
    {
      "cell_type": "code",
      "metadata": {
        "id": "uH5R8m5kUvwD",
        "colab_type": "code",
        "colab": {}
      },
      "source": [
        "mean_tpr/=10"
      ],
      "execution_count": 68,
      "outputs": []
    },
    {
      "cell_type": "code",
      "metadata": {
        "id": "YiZl0uRQUwfe",
        "colab_type": "code",
        "colab": {}
      },
      "source": [
        "mean_rcl/=10"
      ],
      "execution_count": 69,
      "outputs": []
    },
    {
      "cell_type": "code",
      "metadata": {
        "id": "fQLyUbW1Ux5Q",
        "colab_type": "code",
        "colab": {}
      },
      "source": [
        "fpr['macro']=all_fpr\n",
        "prc['macro']=all_prc\n",
        "tpr['macro']=mean_tpr\n",
        "rcl['macro']=mean_rcl\n",
        "roc_auc['macro']=auc(fpr['macro'],tpr['macro'])\n",
        "ap['macro']=average_precision_score(gt_one_hot.ravel(),pred_soft.ravel(),average='macro')"
      ],
      "execution_count": 70,
      "outputs": []
    },
    {
      "cell_type": "code",
      "metadata": {
        "id": "B9vXNVmwU2E2",
        "colab_type": "code",
        "colab": {
          "base_uri": "https://localhost:8080/",
          "height": 282
        },
        "outputId": "a1d2592e-017d-4cc2-f0b0-b01ad7a038c5"
      },
      "source": [
        "for i in range(10):\n",
        "    plt.plot(rcl[i],prc[i],lw=2,label='PR curve for class %d with Area %0.2f'%(i,ap[i]))\n",
        "plt.plot(prc['micro'],rcl['micro'],lw=5,linestyle=\":\",label='PR Micro Curve with Area %0.2f'%(ap['micro']))\n",
        "plt.plot(prc['macro'],rcl['macro'],lw=5,linestyle=\":\",label='PR Macro Curve with Area %0.2f'%(ap['macro']))\n",
        "    \n",
        "plt.legend()"
      ],
      "execution_count": 71,
      "outputs": [
        {
          "output_type": "execute_result",
          "data": {
            "text/plain": [
              "<matplotlib.legend.Legend at 0x7fa60d64d198>"
            ]
          },
          "metadata": {
            "tags": []
          },
          "execution_count": 71
        },
        {
          "output_type": "display_data",
          "data": {
            "image/png": "[encoded data removed]",
            "text/plain": [
              "<Figure size 432x288 with 1 Axes>"
            ]
          },
          "metadata": {
            "tags": [],
            "needs_background": "light"
          }
        }
      ]
    },
    {
      "cell_type": "code",
      "metadata": {
        "id": "B4b09c3VU35s",
        "colab_type": "code",
        "colab": {
          "base_uri": "https://localhost:8080/",
          "height": 282
        },
        "outputId": "c3739ee9-e7fd-4850-ce9d-072c3d8f0069"
      },
      "source": [
        "for i in range(10):\n",
        "    plt.plot(fpr[i],tpr[i],lw=2,label='ROC curve for class %d with Area %0.2f'%(i,roc_auc[i]))\n",
        "plt.plot(fpr['micro'],tpr['micro'],lw=5,linestyle=\":\",label='ROC Micro Curve with Area %0.2f'%(roc_auc['micro']))\n",
        "plt.plot(fpr['macro'],tpr['macro'],lw=5,linestyle=\":\",label='ROC Macro Curve with Area %0.2f'%(roc_auc['macro']))\n",
        " \n",
        "plt.legend()"
      ],
      "execution_count": 72,
      "outputs": [
        {
          "output_type": "execute_result",
          "data": {
            "text/plain": [
              "<matplotlib.legend.Legend at 0x7fa60d584be0>"
            ]
          },
          "metadata": {
            "tags": []
          },
          "execution_count": 72
        },
        {
          "output_type": "display_data",
          "data": {
            "image/png": "[encoded data removed]",
            "text/plain": [
              "<Figure size 432x288 with 1 Axes>"
            ]
          },
          "metadata": {
            "tags": [],
            "needs_background": "light"
          }
        }
      ]
    },
    {
      "cell_type": "code",
      "metadata": {
        "id": "xQjVkU5pU5he",
        "colab_type": "code",
        "colab": {}
      },
      "source": [
        "mAP=np.asanyarray([ap[i] for i in range(10)]).mean()"
      ],
      "execution_count": 73,
      "outputs": []
    },
    {
      "cell_type": "code",
      "metadata": {
        "id": "ULlLol6iU6_s",
        "colab_type": "code",
        "colab": {
          "base_uri": "https://localhost:8080/",
          "height": 34
        },
        "outputId": "21847041-b1ab-4e30-f6e4-0999f2a935e2"
      },
      "source": [
        "mAP"
      ],
      "execution_count": 74,
      "outputs": [
        {
          "output_type": "execute_result",
          "data": {
            "text/plain": [
              "0.9606709697080758"
            ]
          },
          "metadata": {
            "tags": []
          },
          "execution_count": 74
        }
      ]
    }
  ]
}