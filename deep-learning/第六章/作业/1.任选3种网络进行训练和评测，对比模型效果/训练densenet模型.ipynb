{
  "nbformat": 4,
  "nbformat_minor": 0,
  "metadata": {
    "colab": {
      "name": "训练densenet模型.ipynb",
      "provenance": [],
      "collapsed_sections": []
    },
    "kernelspec": {
      "name": "python3",
      "display_name": "Python 3"
    },
    "accelerator": "GPU",
    "widgets": {
      "application/vnd.jupyter.widget-state+json": {
        "cec2a9fe81804a9ea2a7efe386a15048": {
          "model_module": "@jupyter-widgets/controls",
          "model_name": "HBoxModel",
          "state": {
            "_view_name": "HBoxView",
            "_dom_classes": [],
            "_model_name": "HBoxModel",
            "_view_module": "@jupyter-widgets/controls",
            "_model_module_version": "1.5.0",
            "_view_count": null,
            "_view_module_version": "1.5.0",
            "box_style": "",
            "layout": "IPY_MODEL_9619a1fe67024b13a2924ae93113aed3",
            "_model_module": "@jupyter-widgets/controls",
            "children": [
              "IPY_MODEL_e8d8c1f0bd0b49f7a756bffd040235f3",
              "IPY_MODEL_a149fa252b264c68b4a50086bb962d63"
            ]
          }
        },
        "9619a1fe67024b13a2924ae93113aed3": {
          "model_module": "@jupyter-widgets/base",
          "model_name": "LayoutModel",
          "state": {
            "_view_name": "LayoutView",
            "grid_template_rows": null,
            "right": null,
            "justify_content": null,
            "_view_module": "@jupyter-widgets/base",
            "overflow": null,
            "_model_module_version": "1.2.0",
            "_view_count": null,
            "flex_flow": null,
            "width": null,
            "min_width": null,
            "border": null,
            "align_items": null,
            "bottom": null,
            "_model_module": "@jupyter-widgets/base",
            "top": null,
            "grid_column": null,
            "overflow_y": null,
            "overflow_x": null,
            "grid_auto_flow": null,
            "grid_area": null,
            "grid_template_columns": null,
            "flex": null,
            "_model_name": "LayoutModel",
            "justify_items": null,
            "grid_row": null,
            "max_height": null,
            "align_content": null,
            "visibility": null,
            "align_self": null,
            "height": null,
            "min_height": null,
            "padding": null,
            "grid_auto_rows": null,
            "grid_gap": null,
            "max_width": null,
            "order": null,
            "_view_module_version": "1.2.0",
            "grid_template_areas": null,
            "object_position": null,
            "object_fit": null,
            "grid_auto_columns": null,
            "margin": null,
            "display": null,
            "left": null
          }
        },
        "e8d8c1f0bd0b49f7a756bffd040235f3": {
          "model_module": "@jupyter-widgets/controls",
          "model_name": "FloatProgressModel",
          "state": {
            "_view_name": "ProgressView",
            "style": "IPY_MODEL_cac1761589e141f2a249ede2eedf5836",
            "_dom_classes": [],
            "description": "",
            "_model_name": "FloatProgressModel",
            "bar_style": "info",
            "max": 1,
            "_view_module": "@jupyter-widgets/controls",
            "_model_module_version": "1.5.0",
            "value": 1,
            "_view_count": null,
            "_view_module_version": "1.5.0",
            "orientation": "horizontal",
            "min": 0,
            "description_tooltip": null,
            "_model_module": "@jupyter-widgets/controls",
            "layout": "IPY_MODEL_dcfef3a025c54f67afd48f0f704896fe"
          }
        },
        "a149fa252b264c68b4a50086bb962d63": {
          "model_module": "@jupyter-widgets/controls",
          "model_name": "HTMLModel",
          "state": {
            "_view_name": "HTMLView",
            "style": "IPY_MODEL_04ba0f1a88cd44cbb70eaceb9d90fca0",
            "_dom_classes": [],
            "description": "",
            "_model_name": "HTMLModel",
            "placeholder": "​",
            "_view_module": "@jupyter-widgets/controls",
            "_model_module_version": "1.5.0",
            "value": " 170500096/? [00:29&lt;00:00, 14619299.55it/s]",
            "_view_count": null,
            "_view_module_version": "1.5.0",
            "description_tooltip": null,
            "_model_module": "@jupyter-widgets/controls",
            "layout": "IPY_MODEL_d0ec8475232647a8b373133a8fbab563"
          }
        },
        "cac1761589e141f2a249ede2eedf5836": {
          "model_module": "@jupyter-widgets/controls",
          "model_name": "ProgressStyleModel",
          "state": {
            "_view_name": "StyleView",
            "_model_name": "ProgressStyleModel",
            "description_width": "initial",
            "_view_module": "@jupyter-widgets/base",
            "_model_module_version": "1.5.0",
            "_view_count": null,
            "_view_module_version": "1.2.0",
            "bar_color": null,
            "_model_module": "@jupyter-widgets/controls"
          }
        },
        "dcfef3a025c54f67afd48f0f704896fe": {
          "model_module": "@jupyter-widgets/base",
          "model_name": "LayoutModel",
          "state": {
            "_view_name": "LayoutView",
            "grid_template_rows": null,
            "right": null,
            "justify_content": null,
            "_view_module": "@jupyter-widgets/base",
            "overflow": null,
            "_model_module_version": "1.2.0",
            "_view_count": null,
            "flex_flow": null,
            "width": null,
            "min_width": null,
            "border": null,
            "align_items": null,
            "bottom": null,
            "_model_module": "@jupyter-widgets/base",
            "top": null,
            "grid_column": null,
            "overflow_y": null,
            "overflow_x": null,
            "grid_auto_flow": null,
            "grid_area": null,
            "grid_template_columns": null,
            "flex": null,
            "_model_name": "LayoutModel",
            "justify_items": null,
            "grid_row": null,
            "max_height": null,
            "align_content": null,
            "visibility": null,
            "align_self": null,
            "height": null,
            "min_height": null,
            "padding": null,
            "grid_auto_rows": null,
            "grid_gap": null,
            "max_width": null,
            "order": null,
            "_view_module_version": "1.2.0",
            "grid_template_areas": null,
            "object_position": null,
            "object_fit": null,
            "grid_auto_columns": null,
            "margin": null,
            "display": null,
            "left": null
          }
        },
        "04ba0f1a88cd44cbb70eaceb9d90fca0": {
          "model_module": "@jupyter-widgets/controls",
          "model_name": "DescriptionStyleModel",
          "state": {
            "_view_name": "StyleView",
            "_model_name": "DescriptionStyleModel",
            "description_width": "",
            "_view_module": "@jupyter-widgets/base",
            "_model_module_version": "1.5.0",
            "_view_count": null,
            "_view_module_version": "1.2.0",
            "_model_module": "@jupyter-widgets/controls"
          }
        },
        "d0ec8475232647a8b373133a8fbab563": {
          "model_module": "@jupyter-widgets/base",
          "model_name": "LayoutModel",
          "state": {
            "_view_name": "LayoutView",
            "grid_template_rows": null,
            "right": null,
            "justify_content": null,
            "_view_module": "@jupyter-widgets/base",
            "overflow": null,
            "_model_module_version": "1.2.0",
            "_view_count": null,
            "flex_flow": null,
            "width": null,
            "min_width": null,
            "border": null,
            "align_items": null,
            "bottom": null,
            "_model_module": "@jupyter-widgets/base",
            "top": null,
            "grid_column": null,
            "overflow_y": null,
            "overflow_x": null,
            "grid_auto_flow": null,
            "grid_area": null,
            "grid_template_columns": null,
            "flex": null,
            "_model_name": "LayoutModel",
            "justify_items": null,
            "grid_row": null,
            "max_height": null,
            "align_content": null,
            "visibility": null,
            "align_self": null,
            "height": null,
            "min_height": null,
            "padding": null,
            "grid_auto_rows": null,
            "grid_gap": null,
            "max_width": null,
            "order": null,
            "_view_module_version": "1.2.0",
            "grid_template_areas": null,
            "object_position": null,
            "object_fit": null,
            "grid_auto_columns": null,
            "margin": null,
            "display": null,
            "left": null
          }
        }
      }
    }
  },
  "cells": [
    {
      "cell_type": "code",
      "metadata": {
        "id": "H8t76wqNtkpS",
        "colab_type": "code",
        "colab": {}
      },
      "source": [
        "import torch\n",
        "import torch.nn as nn \n",
        "import torch.nn.functional as F\n",
        "import torch.optim as optim\n",
        "import torchvision\n",
        "import torchvision.transforms as transforms\n",
        "import torchvision.datasets as datasets\n",
        "import os \n",
        "import random\n",
        "import numpy as np "
      ],
      "execution_count": 2,
      "outputs": []
    },
    {
      "cell_type": "code",
      "metadata": {
        "id": "huG7EeGMED3n",
        "colab_type": "code",
        "colab": {
          "base_uri": "https://localhost:8080/",
          "height": 121
        },
        "outputId": "f175b2d0-0c05-454d-8b7b-b23f15f98129"
      },
      "source": [
        "from google.colab import drive\n",
        "drive.mount('/content/drive')"
      ],
      "execution_count": 1,
      "outputs": [
        {
          "output_type": "stream",
          "text": [
            "Go to this URL in a browser: https://accounts.google.com/o/oauth2/auth?client_id=947318989803-6bn6qk8qdgf4n4g3pfee6491hc0brc4i.apps.googleusercontent.com&redirect_uri=urn%3aietf%3awg%3aoauth%3a2.0%3aoob&response_type=code&scope=email%20https%3a%2f%2fwww.googleapis.com%2fauth%2fdocs.test%20https%3a%2f%2fwww.googleapis.com%2fauth%2fdrive%20https%3a%2f%2fwww.googleapis.com%2fauth%2fdrive.photos.readonly%20https%3a%2f%2fwww.googleapis.com%2fauth%2fpeopleapi.readonly\n",
            "\n",
            "Enter your authorization code:\n",
            "··········\n",
            "Mounted at /content/drive\n"
          ],
          "name": "stdout"
        }
      ]
    },
    {
      "cell_type": "markdown",
      "metadata": {
        "id": "KP0boFG6-ZCr",
        "colab_type": "text"
      },
      "source": [
        "# 图像的Normalize"
      ]
    },
    {
      "cell_type": "code",
      "metadata": {
        "id": "pxoEX8Mmtopq",
        "colab_type": "code",
        "colab": {}
      },
      "source": [
        "data_trans=transforms.Compose([\n",
        "    transforms.RandomHorizontalFlip(),\n",
        "    transforms.RandomRotation(10),\n",
        "    transforms.RandomCrop(32,padding=3),\n",
        "    transforms.ToTensor(),\n",
        "    transforms.Normalize((0.49139968, 0.48215827, 0.44653124), (0.24703233, 0.24348505, 0.26158768))#参数mean和std来自于训练集，但是transform本身会在训练和评测的时候都会使用\n",
        "])"
      ],
      "execution_count": 3,
      "outputs": []
    },
    {
      "cell_type": "code",
      "metadata": {
        "id": "1AtDoV-jtuvV",
        "colab_type": "code",
        "colab": {}
      },
      "source": [
        "data_trans_227=transforms.Compose([\n",
        "    transforms.RandomHorizontalFlip(),\n",
        "    transforms.RandomRotation(10),\n",
        "    transforms.RandomCrop(32,padding=3),\n",
        "    transforms.Resize(227),\n",
        "    transforms.ToTensor(),\n",
        "    transforms.Normalize((0.49139968, 0.48215827, 0.44653124), (0.24703233, 0.24348505, 0.26158768))#参数mean和std来自于训练集，但是transform本身会在训练和评测的时候都会使用\n",
        "])"
      ],
      "execution_count": 4,
      "outputs": []
    },
    {
      "cell_type": "code",
      "metadata": {
        "id": "vc5VcJsLtxgk",
        "colab_type": "code",
        "colab": {}
      },
      "source": [
        "data_test=transforms.Compose([\n",
        "    transforms.ToTensor(),\n",
        "    transforms.Normalize((0.49139968, 0.48215827, 0.44653124), (0.24703233, 0.24348505, 0.26158768))\n",
        "])"
      ],
      "execution_count": 5,
      "outputs": []
    },
    {
      "cell_type": "code",
      "metadata": {
        "id": "2M-OXWbRtzx0",
        "colab_type": "code",
        "colab": {}
      },
      "source": [
        "data_test_227=transforms.Compose([\n",
        "    transforms.ToTensor(),\n",
        "    transforms.Resize(227),\n",
        "    transforms.Normalize((0.49139968, 0.48215827, 0.44653124), (0.24703233, 0.24348505, 0.26158768))\n",
        "])"
      ],
      "execution_count": 6,
      "outputs": []
    },
    {
      "cell_type": "code",
      "metadata": {
        "id": "J-1SWco6t5Og",
        "colab_type": "code",
        "colab": {
          "base_uri": "https://localhost:8080/",
          "height": 99,
          "referenced_widgets": [
            "cec2a9fe81804a9ea2a7efe386a15048",
            "9619a1fe67024b13a2924ae93113aed3",
            "e8d8c1f0bd0b49f7a756bffd040235f3",
            "a149fa252b264c68b4a50086bb962d63",
            "cac1761589e141f2a249ede2eedf5836",
            "dcfef3a025c54f67afd48f0f704896fe",
            "04ba0f1a88cd44cbb70eaceb9d90fca0",
            "d0ec8475232647a8b373133a8fbab563"
          ]
        },
        "outputId": "bf080cce-7529-4d25-a4ad-99b6ca5dcf42"
      },
      "source": [
        "train_data=datasets.CIFAR10('data',train=True,download=True,transform=data_trans)\n",
        "test_data=datasets.CIFAR10('data',train=False,download=True,transform=data_trans)"
      ],
      "execution_count": 7,
      "outputs": [
        {
          "output_type": "stream",
          "text": [
            "Downloading https://www.cs.toronto.edu/~kriz/cifar-10-python.tar.gz to data/cifar-10-python.tar.gz\n"
          ],
          "name": "stdout"
        },
        {
          "output_type": "display_data",
          "data": {
            "application/vnd.jupyter.widget-view+json": {
              "model_id": "cec2a9fe81804a9ea2a7efe386a15048",
              "version_minor": 0,
              "version_major": 2
            },
            "text/plain": [
              "HBox(children=(FloatProgress(value=1.0, bar_style='info', max=1.0), HTML(value='')))"
            ]
          },
          "metadata": {
            "tags": []
          }
        },
        {
          "output_type": "stream",
          "text": [
            "Extracting data/cifar-10-python.tar.gz to data\n",
            "Files already downloaded and verified\n"
          ],
          "name": "stdout"
        }
      ]
    },
    {
      "cell_type": "code",
      "metadata": {
        "id": "i3Ubz6ufuAZl",
        "colab_type": "code",
        "colab": {}
      },
      "source": [
        "n_train=int(len(train_data)*0.9)\n",
        "n_validation=len(train_data)-n_train"
      ],
      "execution_count": 9,
      "outputs": []
    },
    {
      "cell_type": "code",
      "metadata": {
        "id": "vqQtiiJYuEcW",
        "colab_type": "code",
        "colab": {}
      },
      "source": [
        "train_data,valid_data=torch.utils.data.random_split(train_data,[n_train,n_validation])"
      ],
      "execution_count": 10,
      "outputs": []
    },
    {
      "cell_type": "code",
      "metadata": {
        "id": "yK2NSCdUuHUi",
        "colab_type": "code",
        "colab": {
          "base_uri": "https://localhost:8080/",
          "height": 34
        },
        "outputId": "7aa0ad88-32f0-475e-9dd0-1c9990177a08"
      },
      "source": [
        "print(len(train_data),len(valid_data),len(test_data))"
      ],
      "execution_count": 11,
      "outputs": [
        {
          "output_type": "stream",
          "text": [
            "45000 5000 10000\n"
          ],
          "name": "stdout"
        }
      ]
    },
    {
      "cell_type": "code",
      "metadata": {
        "id": "ZEB2H-qouNKq",
        "colab_type": "code",
        "colab": {}
      },
      "source": [
        "batch_size=64"
      ],
      "execution_count": 12,
      "outputs": []
    },
    {
      "cell_type": "code",
      "metadata": {
        "id": "BxZOfxMTuN1S",
        "colab_type": "code",
        "colab": {}
      },
      "source": [
        "train_iterator=torch.utils.data.DataLoader(train_data,shuffle=True,batch_size=batch_size)\n",
        "valid_iterator=torch.utils.data.DataLoader(valid_data,batch_size=batch_size)\n",
        "test_iterator=torch.utils.data.DataLoader(test_data,batch_size=batch_size)"
      ],
      "execution_count": 13,
      "outputs": []
    },
    {
      "cell_type": "markdown",
      "metadata": {
        "id": "DK63YjwS-xDq",
        "colab_type": "text"
      },
      "source": [
        "# 定义DenseNet121模型"
      ]
    },
    {
      "cell_type": "code",
      "metadata": {
        "id": "0AMI74RPeYen",
        "colab_type": "code",
        "colab": {}
      },
      "source": [
        "import math\n",
        "class Bottleneck(nn.Module):\n",
        "    def __init__(self,in_planes,growth_rate):\n",
        "        super(Bottleneck,self).__init__()\n",
        "        self.bn1=nn.BatchNorm2d(in_planes)\n",
        "        self.conv1=nn.Conv2d(in_planes,4*growth_rate,kernel_size=1,bias=False)\n",
        "        self.bn2=nn.BatchNorm2d(4*growth_rate)\n",
        "        self.conv2=nn.Conv2d(4*growth_rate,growth_rate,kernel_size=3,padding=1,bias=False)\n",
        "        \n",
        "    def forward(self,x):\n",
        "        out=self.conv1(F.relu(self.bn1(x)))#pre-activation\n",
        "        out=self.conv2(F.relu(self.bn2(out)))\n",
        "        out=torch.cat([out,x],1)\n",
        "        return out\n",
        "class Transition(nn.Module):\n",
        "    def __init__(self,in_planes,out_planes):\n",
        "        super(Transition,self).__init__()\n",
        "        self.bn=nn.BatchNorm2d(in_planes)\n",
        "        self.conv=nn.Conv2d(in_planes,out_planes,kernel_size=1,bias=False)\n",
        "    def forward(self,x):\n",
        "        out=self.conv(F.relu(self.bn(x)))\n",
        "        out=F.avg_pool2d(out,2)\n",
        "        return out\n",
        "class DenseNet(nn.Module):\n",
        "    def __init__(self,block,nblocks,growth_rate=12,reduction=0.5,num_classes=10):\n",
        "        super(DenseNet,self).__init__()\n",
        "        self.growth_rate=growth_rate\n",
        "        num_planes=2*growth_rate #32\n",
        "        #最初的感知层\n",
        "        self.conv1=nn.Conv2d(3,num_planes,kernel_size=3,padding=1,bias=False)\n",
        "        #第一个DenseBlock\n",
        "        self.dense1=self._make_dense_layers(block,num_planes,nblocks[0])\n",
        "        num_planes+=nblocks[0]*growth_rate\n",
        "        out_planes=int(math.floor(num_planes*reduction))\n",
        "        self.trans1=Transition(num_planes,out_planes)\n",
        "        num_planes=out_planes\n",
        "        #第二个DenseBlock\n",
        "        self.dense2 = self._make_dense_layers(block, num_planes, nblocks[1])\n",
        "        num_planes += nblocks[1]*growth_rate#计算如果不压缩的话的输出\n",
        "        out_planes = int(math.floor(num_planes*reduction))\n",
        "        self.trans2 = Transition(num_planes, out_planes)\n",
        "        num_planes = out_planes\n",
        "        #第三个DenseBlock\n",
        "        self.dense3 = self._make_dense_layers(block, num_planes, nblocks[2])\n",
        "        num_planes += nblocks[2]*growth_rate\n",
        "        out_planes = int(math.floor(num_planes*reduction))\n",
        "        self.trans3 = Transition(num_planes, out_planes)\n",
        "        num_planes = out_planes\n",
        "        #第四个DenseBlock\n",
        "        self.dense4 = self._make_dense_layers(block, num_planes, nblocks[3])\n",
        "        num_planes += nblocks[3]*growth_rate\n",
        "        #分类层\n",
        "        self.bn=nn.BatchNorm2d(num_planes)\n",
        "        self.linear=nn.Linear(num_planes,num_classes)\n",
        "    \n",
        "    \n",
        "    def _make_dense_layers(self,block,in_planes,nblock):\n",
        "        #block:bottleneck\n",
        "        #nblock代表构建denseblock中有多少bottleneck层\n",
        "        layers=[]\n",
        "        for i in range(nblock):\n",
        "            layers.append(block(in_planes,self.growth_rate))\n",
        "            in_planes+=self.growth_rate\n",
        "        return nn.Sequential(*layers)\n",
        "    \n",
        "    def forward(self,x):\n",
        "        out=self.conv1(x)\n",
        "        out=self.trans1(self.dense1(out))\n",
        "        out = self.trans2(self.dense2(out))\n",
        "        out = self.trans3(self.dense3(out))\n",
        "        out = self.dense4(out)\n",
        "        out=F.avg_pool2d(F.relu(self.bn(out)),4)\n",
        "        out=out.view(out.size(0),-1)\n",
        "        out=self.linear(out)\n",
        "        return out\n",
        "\n",
        "def DenseNet121():\n",
        "    return DenseNet(Bottleneck,[6,12,24,16],growth_rate=32)"
      ],
      "execution_count": 19,
      "outputs": []
    },
    {
      "cell_type": "markdown",
      "metadata": {
        "id": "mFTrY2F0-4at",
        "colab_type": "text"
      },
      "source": [
        "# 载入模型并训练"
      ]
    },
    {
      "cell_type": "code",
      "metadata": {
        "id": "D4LwmMj4usOQ",
        "colab_type": "code",
        "colab": {}
      },
      "source": [
        "device=torch.device('cuda' if torch.cuda.is_available() else 'cpu')"
      ],
      "execution_count": 14,
      "outputs": []
    },
    {
      "cell_type": "code",
      "metadata": {
        "id": "5bG9EhzEuvBR",
        "colab_type": "code",
        "colab": {}
      },
      "source": [
        "model_dir='/content/drive/My Drive/Colab Notebooks/models'\n",
        "if not os.path.isdir(model_dir):\n",
        "    os.makedirs(model_dir)"
      ],
      "execution_count": 16,
      "outputs": []
    },
    {
      "cell_type": "code",
      "metadata": {
        "id": "jYrzpYHiuxiH",
        "colab_type": "code",
        "colab": {
          "base_uri": "https://localhost:8080/",
          "height": 34
        },
        "outputId": "681443bd-af9f-4ba9-e1fd-fe44bab911b8"
      },
      "source": [
        "device"
      ],
      "execution_count": 17,
      "outputs": [
        {
          "output_type": "execute_result",
          "data": {
            "text/plain": [
              "device(type='cuda')"
            ]
          },
          "metadata": {
            "tags": []
          },
          "execution_count": 17
        }
      ]
    },
    {
      "cell_type": "code",
      "metadata": {
        "id": "YDgZbBXvu2hm",
        "colab_type": "code",
        "colab": {}
      },
      "source": [
        "model=DenseNet121().to(device)\n",
        "model_path=os.path.join(model_dir,'densenet_c10.pt')"
      ],
      "execution_count": 20,
      "outputs": []
    },
    {
      "cell_type": "code",
      "metadata": {
        "id": "QuVLo4TwvM-4",
        "colab_type": "code",
        "colab": {}
      },
      "source": [
        "optimizer=optim.Adam(model.parameters())\n",
        "criterion=nn.CrossEntropyLoss()"
      ],
      "execution_count": 21,
      "outputs": []
    },
    {
      "cell_type": "markdown",
      "metadata": {
        "id": "fDK0CyJx_OK0",
        "colab_type": "text"
      },
      "source": [
        "## 定义计算精确度方法"
      ]
    },
    {
      "cell_type": "code",
      "metadata": {
        "id": "NX_sZCUkvQEM",
        "colab_type": "code",
        "colab": {}
      },
      "source": [
        "def accu(fx,y):\n",
        "    pred=fx.max(1,keepdim=True)[1]\n",
        "    correct=pred.eq(y.view_as(pred)).sum()#得到该batch的准确度\n",
        "    acc=correct.float()/pred.shape[0]\n",
        "    return acc"
      ],
      "execution_count": 22,
      "outputs": []
    },
    {
      "cell_type": "markdown",
      "metadata": {
        "id": "FxWQLK5L_UAV",
        "colab_type": "text"
      },
      "source": [
        "## 定义训练方法"
      ]
    },
    {
      "cell_type": "code",
      "metadata": {
        "id": "vwKXbAsxvQr_",
        "colab_type": "code",
        "colab": {}
      },
      "source": [
        "def train(model,device,iterator,optimizer,criterion):\n",
        "    epoch_loss=0#积累变量\n",
        "    epoch_acc=0#积累变量\n",
        "    model.train()#该函数表示PHASE=Train\n",
        "    \n",
        "    for (x,y) in iterator:#拿去每一个minibatch\n",
        "        x=x.to(device)\n",
        "        y=y.to(device)\n",
        "        optimizer.zero_grad()\n",
        "        fx=model(x)#进行forward\n",
        "        loss=criterion(fx,y)#计算Loss,train_loss\n",
        "        type(loss)\n",
        "        acc=accu(fx,y)#计算精确度，train_accu\n",
        "        loss.backward()#进行BP\n",
        "        optimizer.step()#统一更新模型\n",
        "        epoch_loss+=loss.item()\n",
        "        epoch_acc+=acc.item()\n",
        "        \n",
        "    return epoch_loss/len(iterator),epoch_acc/len(iterator)"
      ],
      "execution_count": 23,
      "outputs": []
    },
    {
      "cell_type": "markdown",
      "metadata": {
        "id": "ulXaNIU8_X1Q",
        "colab_type": "text"
      },
      "source": [
        "## 定义评测方法"
      ]
    },
    {
      "cell_type": "code",
      "metadata": {
        "id": "UJ0Kfn6XvTOH",
        "colab_type": "code",
        "colab": {}
      },
      "source": [
        "def evaluate(model,device,iterator,criterion):\n",
        "    epoch_loss=0\n",
        "    epoch_acc=0\n",
        "    model.eval()\n",
        "    with torch.no_grad():\n",
        "        for (x,y) in iterator:\n",
        "            x=x.to(device)\n",
        "            y=y.to(device)\n",
        "            fx=model(x)\n",
        "            loss=criterion(fx,y)\n",
        "            acc=accu(fx,y)\n",
        "            epoch_loss+=loss.item()\n",
        "            epoch_acc+=acc.item()\n",
        "    return epoch_loss/len(iterator),epoch_acc/len(iterator)"
      ],
      "execution_count": 24,
      "outputs": []
    },
    {
      "cell_type": "code",
      "metadata": {
        "id": "0l_4tk-cvV-P",
        "colab_type": "code",
        "colab": {}
      },
      "source": [
        "epochs=30\n",
        "best_valid_loss=float('inf')"
      ],
      "execution_count": null,
      "outputs": []
    },
    {
      "cell_type": "code",
      "metadata": {
        "id": "hMQ-ylt8vlGY",
        "colab_type": "code",
        "colab": {
          "base_uri": "https://localhost:8080/",
          "height": 521
        },
        "outputId": "f2d18b48-32d7-4d9c-a9ad-204129c3fadb"
      },
      "source": [
        "for epoch in range(epochs):\n",
        "    train_loss,train_acc=train(model,device,train_iterator,optimizer,criterion)\n",
        "    valid_loss,valid_acc=evaluate(model,device,valid_iterator,criterion)\n",
        "    if valid_loss<best_valid_loss:#如果是最好的模型就保存到文件夹\n",
        "        best_valid_loss=valid_loss\n",
        "        torch.save(model.state_dict(),model_path)\n",
        "    print('Epoch:{0}|Train Loss:{1}|Train Acc:{2}|Val Loss:{3}|Val Acc:{4}'.format(epoch+1,train_loss,train_acc,valid_loss,valid_acc))"
      ],
      "execution_count": null,
      "outputs": [
        {
          "output_type": "stream",
          "text": [
            "Epoch:1|Train Loss:1.4460339939899065|Train Acc:0.4646218039772727|Val Loss:1.1475464837460578|Val Acc:0.5915743670886076\n",
            "Epoch:2|Train Loss:0.9884696009314873|Train Acc:0.6444424715909091|Val Loss:0.9309043680565267|Val Acc:0.6693037974683544\n",
            "Epoch:3|Train Loss:0.799153711477464|Train Acc:0.7173295454545454|Val Loss:0.8184317606913892|Val Acc:0.7104430379746836\n",
            "Epoch:4|Train Loss:0.65658473524011|Train Acc:0.7696422230113636|Val Loss:0.5992584632167334|Val Acc:0.7939082278481012\n",
            "Epoch:5|Train Loss:0.5660363551313904|Train Acc:0.8015802556818182|Val Loss:0.6318971431708034|Val Acc:0.7820411392405063\n",
            "Epoch:6|Train Loss:0.5056105740156702|Train Acc:0.8237970525568182|Val Loss:0.5096503077428552|Val Acc:0.8194224683544303\n",
            "Epoch:7|Train Loss:0.4540885598398745|Train Acc:0.8418412642045454|Val Loss:0.4678512355194816|Val Acc:0.8358386075949367\n",
            "Epoch:8|Train Loss:0.41199494151144544|Train Acc:0.8575550426136364|Val Loss:0.44755783413029926|Val Acc:0.8496835443037974\n",
            "Epoch:9|Train Loss:0.37843721340918407|Train Acc:0.8692737926136364|Val Loss:0.41662532185451895|Val Acc:0.8556170886075949\n",
            "Epoch:10|Train Loss:0.3444051687415181|Train Acc:0.8793279474431818|Val Loss:0.4040284811318675|Val Acc:0.8645174050632911\n",
            "Epoch:11|Train Loss:0.3244227622318166|Train Acc:0.8867853338068182|Val Loss:0.36358836745914025|Val Acc:0.8724287974683544\n",
            "Epoch:12|Train Loss:0.29275693513707|Train Acc:0.8980379971590909|Val Loss:0.3883759045525442|Val Acc:0.8651107594936709\n",
            "Epoch:13|Train Loss:0.2733591205906123|Train Acc:0.9032537286931818|Val Loss:0.3831964879284931|Val Acc:0.8712420886075949\n",
            "Epoch:14|Train Loss:0.2565109278181229|Train Acc:0.9095791903409091|Val Loss:0.37124358702309523|Val Acc:0.8779667721518988\n",
            "Epoch:15|Train Loss:0.24648989697875964|Train Acc:0.91259765625|Val Loss:0.3460510370286205|Val Acc:0.8854825949367089\n",
            "Epoch:16|Train Loss:0.22317630113419992|Train Acc:0.9203213778409091|Val Loss:0.3497279810754559|Val Acc:0.8878560126582279\n",
            "Epoch:17|Train Loss:0.2069289637200365|Train Acc:0.9263139204545454|Val Loss:0.32119950350326826|Val Acc:0.8951740506329114\n",
            "Epoch:18|Train Loss:0.19113465991209855|Train Acc:0.93212890625|Val Loss:0.38589235385761983|Val Acc:0.8803401898734177\n",
            "Epoch:19|Train Loss:0.1859775975780477|Train Acc:0.9338600852272727|Val Loss:0.3349112866422798|Val Acc:0.8884493670886076\n",
            "Epoch:20|Train Loss:0.17186094073060137|Train Acc:0.939208984375|Val Loss:0.324112607614149|Val Acc:0.8989319620253164\n",
            "Epoch:21|Train Loss:0.15959555690113286|Train Acc:0.9433371803977273|Val Loss:0.35215311318258696|Val Acc:0.8933939873417721\n",
            "Epoch:22|Train Loss:0.1527569844276348|Train Acc:0.9458673650568182|Val Loss:0.3425606922069682|Val Acc:0.8947784810126582\n",
            "Epoch:23|Train Loss:0.14290366968965496|Train Acc:0.9487748579545454|Val Loss:0.3332099324163002|Val Acc:0.8945806962025317\n",
            "Epoch:24|Train Loss:0.1296668664409398|Train Acc:0.9544788707386364|Val Loss:0.3115085902847821|Val Acc:0.9048655063291139\n",
            "Epoch:25|Train Loss:0.12779001062683|Train Acc:0.9544788707386364|Val Loss:0.3320075511177884|Val Acc:0.8995253164556962\n",
            "Epoch:26|Train Loss:0.11839142988769295|Train Acc:0.9571644176136364|Val Loss:0.34225192859391623|Val Acc:0.9020965189873418\n",
            "Epoch:27|Train Loss:0.1124605910577388|Train Acc:0.9602716619318182|Val Loss:0.3238610922347141|Val Acc:0.9022943037974683\n",
            "Epoch:28|Train Loss:0.10531183589773718|Train Acc:0.962890625|Val Loss:0.3244442985027651|Val Acc:0.908623417721519\n",
            "Epoch:29|Train Loss:0.1015241483903744|Train Acc:0.9642888849431818|Val Loss:0.31593115458005594|Val Acc:0.9046677215189873\n",
            "Epoch:30|Train Loss:0.09606863134037914|Train Acc:0.9664639559659091|Val Loss:0.3218389939799716|Val Acc:0.9082278481012658\n"
          ],
          "name": "stdout"
        }
      ]
    },
    {
      "cell_type": "code",
      "metadata": {
        "id": "0kkAytJKX_-0",
        "colab_type": "code",
        "colab": {
          "base_uri": "https://localhost:8080/",
          "height": 34
        },
        "outputId": "f6ab4b0b-7e0f-4d8f-d28a-3fec77c3dc83"
      },
      "source": [
        "model.load_state_dict(torch.load(model_path))\n",
        "test_loss, test_acc = evaluate(model, device, test_iterator, criterion)\n",
        "print('| Test Loss: {0} | Test Acc: {1} |'.format(test_loss,test_acc))"
      ],
      "execution_count": 25,
      "outputs": [
        {
          "output_type": "stream",
          "text": [
            "| Test Loss: 0.3291512867257853 | Test Acc: 0.8986863057324841 |\n"
          ],
          "name": "stdout"
        }
      ]
    },
    {
      "cell_type": "markdown",
      "metadata": {
        "id": "_w8Ura9e71jF",
        "colab_type": "text"
      },
      "source": [
        "# 模型的评测"
      ]
    },
    {
      "cell_type": "code",
      "metadata": {
        "id": "xVE-FniHYh7x",
        "colab_type": "code",
        "colab": {}
      },
      "source": [
        "import numpy as np\n",
        "import matplotlib.pyplot as plt\n",
        "from itertools import cycle\n",
        "\n",
        "from sklearn import svm, datasets\n",
        "from sklearn.metrics import roc_curve, auc,precision_recall_curve,average_precision_score\n",
        "from sklearn.model_selection import train_test_split\n",
        "from sklearn.preprocessing import label_binarize\n",
        "from sklearn.multiclass import OneVsRestClassifier\n",
        "from scipy import interp"
      ],
      "execution_count": 26,
      "outputs": []
    },
    {
      "cell_type": "code",
      "metadata": {
        "id": "Mxjnk1qOYqNi",
        "colab_type": "code",
        "colab": {}
      },
      "source": [
        "prediction=[]\n",
        "groundtruth=[]"
      ],
      "execution_count": 27,
      "outputs": []
    },
    {
      "cell_type": "code",
      "metadata": {
        "id": "L3NGw_1AYsmL",
        "colab_type": "code",
        "colab": {}
      },
      "source": [
        "def evaluate2(model,device,iterator,criterion):\n",
        "    epoch_loss=0\n",
        "    epoch_acc=0\n",
        "    model.eval()\n",
        "    with torch.no_grad():\n",
        "        for (x,y) in iterator:\n",
        "            x=x.to(device)\n",
        "            y=y.to(device)\n",
        "            fx=model(x)\n",
        "            loss=criterion(fx,y)\n",
        "            prediction.append(fx)\n",
        "            groundtruth.append(y)\n",
        "            acc=accu(fx,y)\n",
        "            epoch_loss+=loss.item()\n",
        "            epoch_acc+=acc.item()\n",
        "    return epoch_loss/len(iterator),epoch_acc/len(iterator)"
      ],
      "execution_count": 28,
      "outputs": []
    },
    {
      "cell_type": "code",
      "metadata": {
        "id": "-8rcIVXoYyum",
        "colab_type": "code",
        "colab": {
          "base_uri": "https://localhost:8080/",
          "height": 34
        },
        "outputId": "ef4b6ccf-e1f0-4d73-8b7a-229346486fb1"
      },
      "source": [
        "model.load_state_dict(torch.load(model_path))\n",
        "test_loss, test_acc = evaluate2(model, device, test_iterator, criterion)\n",
        "print('| Test Loss: {0} | Test Acc: {1} |'.format(test_loss,test_acc))"
      ],
      "execution_count": 29,
      "outputs": [
        {
          "output_type": "stream",
          "text": [
            "| Test Loss: 0.32754407403100827 | Test Acc: 0.900577229299363 |\n"
          ],
          "name": "stdout"
        }
      ]
    },
    {
      "cell_type": "code",
      "metadata": {
        "id": "J84U2_Tm6EeW",
        "colab_type": "code",
        "colab": {}
      },
      "source": [
        "pred=torch.cat(prediction).cpu().numpy()"
      ],
      "execution_count": 30,
      "outputs": []
    },
    {
      "cell_type": "code",
      "metadata": {
        "id": "c061ByBD6L-1",
        "colab_type": "code",
        "colab": {
          "base_uri": "https://localhost:8080/",
          "height": 34
        },
        "outputId": "53c2b55c-d2ad-4161-fdbb-64c69d29ada0"
      },
      "source": [
        "pred.shape"
      ],
      "execution_count": 31,
      "outputs": [
        {
          "output_type": "execute_result",
          "data": {
            "text/plain": [
              "(10000, 10)"
            ]
          },
          "metadata": {
            "tags": []
          },
          "execution_count": 31
        }
      ]
    },
    {
      "cell_type": "code",
      "metadata": {
        "id": "L84-IoR46M9R",
        "colab_type": "code",
        "colab": {
          "base_uri": "https://localhost:8080/",
          "height": 67
        },
        "outputId": "228ddf2e-0276-4020-8704-74d1d512b7df"
      },
      "source": [
        "pred[0]"
      ],
      "execution_count": 32,
      "outputs": [
        {
          "output_type": "execute_result",
          "data": {
            "text/plain": [
              "array([ -8.737722 ,  -9.14482  ,  -5.143304 ,   5.3423767,  -9.795004 ,\n",
              "        -2.194182 ,  -6.942836 ,  -7.611933 ,  -8.898018 , -13.93062  ],\n",
              "      dtype=float32)"
            ]
          },
          "metadata": {
            "tags": []
          },
          "execution_count": 32
        }
      ]
    },
    {
      "cell_type": "code",
      "metadata": {
        "id": "TRe2djjT6TeM",
        "colab_type": "code",
        "colab": {}
      },
      "source": [
        "gt=torch.cat(groundtruth).cpu().numpy()"
      ],
      "execution_count": 33,
      "outputs": []
    },
    {
      "cell_type": "code",
      "metadata": {
        "id": "lUcTr8vt6VFz",
        "colab_type": "code",
        "colab": {
          "base_uri": "https://localhost:8080/",
          "height": 34
        },
        "outputId": "40c3442d-d89d-4777-c1a3-01534a2b0629"
      },
      "source": [
        "gt.shape"
      ],
      "execution_count": 34,
      "outputs": [
        {
          "output_type": "execute_result",
          "data": {
            "text/plain": [
              "(10000,)"
            ]
          },
          "metadata": {
            "tags": []
          },
          "execution_count": 34
        }
      ]
    },
    {
      "cell_type": "code",
      "metadata": {
        "id": "J2WmoJ4m7SDC",
        "colab_type": "code",
        "colab": {}
      },
      "source": [
        "fpr=dict()\n",
        "tpr=dict()\n",
        "prc=dict()\n",
        "rcl=dict()\n",
        "roc_auc=dict()\n",
        "ap=dict()"
      ],
      "execution_count": 41,
      "outputs": []
    },
    {
      "cell_type": "code",
      "metadata": {
        "id": "P4alUHej6Zgm",
        "colab_type": "code",
        "colab": {}
      },
      "source": [
        "gt_one_hot=np.eye(10)[gt.reshape(-1)]#groundtruth的onehot化"
      ],
      "execution_count": 35,
      "outputs": []
    },
    {
      "cell_type": "code",
      "metadata": {
        "id": "dEA2QfoY6bZR",
        "colab_type": "code",
        "colab": {
          "base_uri": "https://localhost:8080/",
          "height": 34
        },
        "outputId": "9c0af5f3-7766-477c-ade1-c05272331674"
      },
      "source": [
        "gt_one_hot[0]"
      ],
      "execution_count": 36,
      "outputs": [
        {
          "output_type": "execute_result",
          "data": {
            "text/plain": [
              "array([0., 0., 0., 1., 0., 0., 0., 0., 0., 0.])"
            ]
          },
          "metadata": {
            "tags": []
          },
          "execution_count": 36
        }
      ]
    },
    {
      "cell_type": "code",
      "metadata": {
        "id": "gnEhKr5T6dpA",
        "colab_type": "code",
        "colab": {
          "base_uri": "https://localhost:8080/",
          "height": 70
        },
        "outputId": "9a8178fc-b2df-4189-cbdb-26c06f7a83ec"
      },
      "source": [
        "pred_soft=F.softmax(torch.cat(prediction).cpu()).cpu().numpy()"
      ],
      "execution_count": 37,
      "outputs": [
        {
          "output_type": "stream",
          "text": [
            "/usr/local/lib/python3.6/dist-packages/ipykernel_launcher.py:1: UserWarning: Implicit dimension choice for softmax has been deprecated. Change the call to include dim=X as an argument.\n",
            "  \"\"\"Entry point for launching an IPython kernel.\n"
          ],
          "name": "stderr"
        }
      ]
    },
    {
      "cell_type": "code",
      "metadata": {
        "id": "U8Z4fs446f8k",
        "colab_type": "code",
        "colab": {
          "base_uri": "https://localhost:8080/",
          "height": 67
        },
        "outputId": "9ce36f8d-936c-4317-d5ba-a2b6aeba2108"
      },
      "source": [
        "pred_soft[0]"
      ],
      "execution_count": 38,
      "outputs": [
        {
          "output_type": "execute_result",
          "data": {
            "text/plain": [
              "array([7.6708409e-07, 5.1055514e-07, 2.7917667e-05, 9.9942988e-01,\n",
              "       2.6648419e-07, 5.3292548e-04, 4.6169198e-06, 2.3646519e-06,\n",
              "       6.5347285e-07, 4.2618300e-09], dtype=float32)"
            ]
          },
          "metadata": {
            "tags": []
          },
          "execution_count": 38
        }
      ]
    },
    {
      "cell_type": "code",
      "metadata": {
        "id": "AaF4vmRE6gpy",
        "colab_type": "code",
        "colab": {}
      },
      "source": [
        "for i in range(10):\n",
        "    fpr[i],tpr[i],_=roc_curve(gt_one_hot[:,i],pred_soft[:,i])\n",
        "    roc_auc[i]=auc(fpr[i],tpr[i])\n",
        "    prc[i],rcl[i],_=precision_recall_curve(gt_one_hot[:,i],pred_soft[:,i])\n",
        "    ap[i]=average_precision_score(gt_one_hot[:,i],pred_soft[:,i])"
      ],
      "execution_count": 42,
      "outputs": []
    },
    {
      "cell_type": "code",
      "metadata": {
        "id": "G9_69a3u6jOb",
        "colab_type": "code",
        "colab": {
          "base_uri": "https://localhost:8080/",
          "height": 34
        },
        "outputId": "081c88d6-5578-40d5-a2f9-0391eb308c51"
      },
      "source": [
        "tpr[0].shape"
      ],
      "execution_count": 44,
      "outputs": [
        {
          "output_type": "execute_result",
          "data": {
            "text/plain": [
              "(378,)"
            ]
          },
          "metadata": {
            "tags": []
          },
          "execution_count": 44
        }
      ]
    },
    {
      "cell_type": "code",
      "metadata": {
        "id": "RxwAlGvL6lQx",
        "colab_type": "code",
        "colab": {
          "base_uri": "https://localhost:8080/",
          "height": 282
        },
        "outputId": "4a72fff8-338e-4659-a3ee-a0f56f566617"
      },
      "source": [
        "for i in range(10):\n",
        "    plt.plot(fpr[i],tpr[i],lw=2,label='ROC curve for class %d with Area %0.2f'%(i,roc_auc[i]))\n",
        "plt.legend()"
      ],
      "execution_count": 43,
      "outputs": [
        {
          "output_type": "execute_result",
          "data": {
            "text/plain": [
              "<matplotlib.legend.Legend at 0x7fbd26487da0>"
            ]
          },
          "metadata": {
            "tags": []
          },
          "execution_count": 43
        },
        {
          "output_type": "display_data",
          "data": {
            "image/png": "[encoded data removed]",
            "text/plain": [
              "<Figure size 432x288 with 1 Axes>"
            ]
          },
          "metadata": {
            "tags": [],
            "needs_background": "light"
          }
        }
      ]
    },
    {
      "cell_type": "code",
      "metadata": {
        "id": "nFqHUJRN6nKW",
        "colab_type": "code",
        "colab": {
          "base_uri": "https://localhost:8080/",
          "height": 282
        },
        "outputId": "ebe14457-1c27-4d4a-f788-5222d6a7b4fb"
      },
      "source": [
        "for i in range(10):\n",
        "    plt.plot(rcl[i],prc[i],lw=2,label='PR curve for class %d with Area %0.2f'%(i,ap[i]))\n",
        "plt.legend()"
      ],
      "execution_count": 45,
      "outputs": [
        {
          "output_type": "execute_result",
          "data": {
            "text/plain": [
              "<matplotlib.legend.Legend at 0x7fbd2657fc88>"
            ]
          },
          "metadata": {
            "tags": []
          },
          "execution_count": 45
        },
        {
          "output_type": "display_data",
          "data": {
            "image/png": "[encoded data removed]",
            "text/plain": [
              "<Figure size 432x288 with 1 Axes>"
            ]
          },
          "metadata": {
            "tags": [],
            "needs_background": "light"
          }
        }
      ]
    },
    {
      "cell_type": "markdown",
      "metadata": {
        "id": "6wnUaKze8G_1",
        "colab_type": "text"
      },
      "source": [
        "## Micro的实现\n",
        "\n",
        "Micro认为所有的分类1......k都是同一类，因此将所有的gt和预测的结果合并成为1个数组来进行评判"
      ]
    },
    {
      "cell_type": "code",
      "metadata": {
        "id": "6h93hY_R7ufy",
        "colab_type": "code",
        "colab": {
          "base_uri": "https://localhost:8080/",
          "height": 34
        },
        "outputId": "4988791a-c083-47ba-c99f-3d4ede243f4b"
      },
      "source": [
        "gt_one_hot.ravel().shape"
      ],
      "execution_count": 46,
      "outputs": [
        {
          "output_type": "execute_result",
          "data": {
            "text/plain": [
              "(100000,)"
            ]
          },
          "metadata": {
            "tags": []
          },
          "execution_count": 46
        }
      ]
    },
    {
      "cell_type": "code",
      "metadata": {
        "id": "yoFLCv5m8RA-",
        "colab_type": "code",
        "colab": {
          "base_uri": "https://localhost:8080/",
          "height": 34
        },
        "outputId": "91fdbc9b-8e92-4351-d5f2-e74f60193a0a"
      },
      "source": [
        "pred_soft.ravel().shape"
      ],
      "execution_count": 47,
      "outputs": [
        {
          "output_type": "execute_result",
          "data": {
            "text/plain": [
              "(100000,)"
            ]
          },
          "metadata": {
            "tags": []
          },
          "execution_count": 47
        }
      ]
    },
    {
      "cell_type": "code",
      "metadata": {
        "id": "wbuUJ1mq8UOP",
        "colab_type": "code",
        "colab": {}
      },
      "source": [
        "fpr['micro'],tpr['micro'],_=roc_curve(gt_one_hot.ravel(),pred_soft.ravel())"
      ],
      "execution_count": 48,
      "outputs": []
    },
    {
      "cell_type": "code",
      "metadata": {
        "id": "JLaNVaGD8WFS",
        "colab_type": "code",
        "colab": {}
      },
      "source": [
        "prc['micro'],rcl['micro'],_=precision_recall_curve(gt_one_hot.ravel(),pred_soft.ravel())"
      ],
      "execution_count": 49,
      "outputs": []
    },
    {
      "cell_type": "code",
      "metadata": {
        "id": "SC7wrn6K8YU-",
        "colab_type": "code",
        "colab": {}
      },
      "source": [
        "ap['micro']=average_precision_score(gt_one_hot.ravel(),pred_soft.ravel(),average='micro')"
      ],
      "execution_count": 50,
      "outputs": []
    },
    {
      "cell_type": "code",
      "metadata": {
        "id": "Bg5d2sFx8aYG",
        "colab_type": "code",
        "colab": {}
      },
      "source": [
        "roc_auc['micro']=auc(fpr['micro'],tpr['micro'])"
      ],
      "execution_count": 51,
      "outputs": []
    },
    {
      "cell_type": "code",
      "metadata": {
        "id": "RsTekawK8b-9",
        "colab_type": "code",
        "colab": {
          "base_uri": "https://localhost:8080/",
          "height": 282
        },
        "outputId": "a59aa7ec-88b8-4732-9d3b-2f5725cf9900"
      },
      "source": [
        "for i in range(10):\n",
        "    plt.plot(rcl[i],prc[i],lw=2,label='PR curve for class %d with Area %0.2f'%(i,ap[i]))\n",
        "plt.plot(prc['micro'],rcl['micro'],lw=5,linestyle=\":\",label='PR Micro Curve with Area %0.2f'%(ap['micro']))\n",
        "    \n",
        "plt.legend()\n"
      ],
      "execution_count": 52,
      "outputs": [
        {
          "output_type": "execute_result",
          "data": {
            "text/plain": [
              "<matplotlib.legend.Legend at 0x7fbd25ea39b0>"
            ]
          },
          "metadata": {
            "tags": []
          },
          "execution_count": 52
        },
        {
          "output_type": "display_data",
          "data": {
            "image/png": "[encoded data removed]",
            "text/plain": [
              "<Figure size 432x288 with 1 Axes>"
            ]
          },
          "metadata": {
            "tags": [],
            "needs_background": "light"
          }
        }
      ]
    },
    {
      "cell_type": "code",
      "metadata": {
        "id": "gizvcfvP8d_3",
        "colab_type": "code",
        "colab": {
          "base_uri": "https://localhost:8080/",
          "height": 282
        },
        "outputId": "955f8dd5-c893-41e2-8a59-3db9765b8566"
      },
      "source": [
        "for i in range(10):\n",
        "    plt.plot(fpr[i],tpr[i],lw=2,label='ROC curve for class %d with Area %0.2f'%(i,roc_auc[i]))\n",
        "plt.plot(fpr['micro'],tpr['micro'],lw=5,linestyle=\":\",label='ROC Micro Curve with Area %0.2f'%(roc_auc['micro']))\n",
        " \n",
        "plt.legend()"
      ],
      "execution_count": 53,
      "outputs": [
        {
          "output_type": "execute_result",
          "data": {
            "text/plain": [
              "<matplotlib.legend.Legend at 0x7fbd25ddf7b8>"
            ]
          },
          "metadata": {
            "tags": []
          },
          "execution_count": 53
        },
        {
          "output_type": "display_data",
          "data": {
            "image/png": "[encoded data removed]",
            "text/plain": [
              "<Figure size 432x288 with 1 Axes>"
            ]
          },
          "metadata": {
            "tags": [],
            "needs_background": "light"
          }
        }
      ]
    },
    {
      "cell_type": "markdown",
      "metadata": {
        "id": "ddeKkMng8jr9",
        "colab_type": "text"
      },
      "source": [
        "## Macro的计算"
      ]
    },
    {
      "cell_type": "code",
      "metadata": {
        "id": "VN0loSth9nnB",
        "colab_type": "code",
        "colab": {}
      },
      "source": [
        "all_fpr=np.unique(np.concatenate([fpr[i] for i in range(10)]))#获得所有的fpr插值点"
      ],
      "execution_count": 54,
      "outputs": []
    },
    {
      "cell_type": "code",
      "metadata": {
        "id": "q7ycKd3v9s-T",
        "colab_type": "code",
        "colab": {
          "base_uri": "https://localhost:8080/",
          "height": 34
        },
        "outputId": "d13c96a2-240e-4838-c31b-814006f6cf13"
      },
      "source": [
        "np.concatenate([fpr[i] for i in range(10)]).shape"
      ],
      "execution_count": 55,
      "outputs": [
        {
          "output_type": "execute_result",
          "data": {
            "text/plain": [
              "(3509,)"
            ]
          },
          "metadata": {
            "tags": []
          },
          "execution_count": 55
        }
      ]
    },
    {
      "cell_type": "code",
      "metadata": {
        "id": "OtJmKDza9vgV",
        "colab_type": "code",
        "colab": {}
      },
      "source": [
        "all_prc=np.unique(np.concatenate([prc[i] for i in range(10)]))#获得所有的prc的插值点"
      ],
      "execution_count": 56,
      "outputs": []
    },
    {
      "cell_type": "code",
      "metadata": {
        "id": "VKLexpU69xgG",
        "colab_type": "code",
        "colab": {}
      },
      "source": [
        "mean_tpr=np.zeros_like(all_fpr)\n",
        "mean_rcl=np.zeros_like(all_prc)"
      ],
      "execution_count": 57,
      "outputs": []
    },
    {
      "cell_type": "code",
      "metadata": {
        "id": "i2yFXtEb9zJS",
        "colab_type": "code",
        "colab": {
          "base_uri": "https://localhost:8080/",
          "height": 34
        },
        "outputId": "6cb159d7-d8c2-4cf2-b743-6c416b7212ed"
      },
      "source": [
        "mean_tpr.shape"
      ],
      "execution_count": 58,
      "outputs": [
        {
          "output_type": "execute_result",
          "data": {
            "text/plain": [
              "(609,)"
            ]
          },
          "metadata": {
            "tags": []
          },
          "execution_count": 58
        }
      ]
    },
    {
      "cell_type": "code",
      "metadata": {
        "id": "Yz7tjARi91NO",
        "colab_type": "code",
        "colab": {
          "base_uri": "https://localhost:8080/",
          "height": 104
        },
        "outputId": "21dab6e7-3062-4855-fd07-8a6cb74b9f09"
      },
      "source": [
        "for i in range(10):\n",
        "    mean_tpr+=interp(all_fpr,fpr[i],tpr[i])\n",
        "    mean_rcl+=interp(all_prc,prc[i],rcl[i])"
      ],
      "execution_count": 59,
      "outputs": [
        {
          "output_type": "stream",
          "text": [
            "/usr/local/lib/python3.6/dist-packages/ipykernel_launcher.py:2: DeprecationWarning: scipy.interp is deprecated and will be removed in SciPy 2.0.0, use numpy.interp instead\n",
            "  \n",
            "/usr/local/lib/python3.6/dist-packages/ipykernel_launcher.py:3: DeprecationWarning: scipy.interp is deprecated and will be removed in SciPy 2.0.0, use numpy.interp instead\n",
            "  This is separate from the ipykernel package so we can avoid doing imports until\n"
          ],
          "name": "stderr"
        }
      ]
    },
    {
      "cell_type": "code",
      "metadata": {
        "id": "2_sbjQh093B_",
        "colab_type": "code",
        "colab": {}
      },
      "source": [
        "mean_tpr/=10"
      ],
      "execution_count": 60,
      "outputs": []
    },
    {
      "cell_type": "code",
      "metadata": {
        "id": "B1yOvuQM94xv",
        "colab_type": "code",
        "colab": {}
      },
      "source": [
        "mean_rcl/=10"
      ],
      "execution_count": 61,
      "outputs": []
    },
    {
      "cell_type": "code",
      "metadata": {
        "id": "VX0BTIke96n4",
        "colab_type": "code",
        "colab": {}
      },
      "source": [
        "fpr['macro']=all_fpr\n",
        "prc['macro']=all_prc\n",
        "tpr['macro']=mean_tpr\n",
        "rcl['macro']=mean_rcl\n",
        "roc_auc['macro']=auc(fpr['macro'],tpr['macro'])\n",
        "ap['macro']=average_precision_score(gt_one_hot.ravel(),pred_soft.ravel(),average='macro')"
      ],
      "execution_count": 62,
      "outputs": []
    },
    {
      "cell_type": "code",
      "metadata": {
        "id": "2T_mBPbS98b5",
        "colab_type": "code",
        "colab": {
          "base_uri": "https://localhost:8080/",
          "height": 282
        },
        "outputId": "f16631ee-283c-43fc-bf70-b4934073b897"
      },
      "source": [
        "for i in range(10):\n",
        "    plt.plot(rcl[i],prc[i],lw=2,label='PR curve for class %d with Area %0.2f'%(i,ap[i]))\n",
        "plt.plot(prc['micro'],rcl['micro'],lw=5,linestyle=\":\",label='PR Micro Curve with Area %0.2f'%(ap['micro']))\n",
        "plt.plot(prc['macro'],rcl['macro'],lw=5,linestyle=\":\",label='PR Macro Curve with Area %0.2f'%(ap['macro']))\n",
        "    \n",
        "plt.legend()"
      ],
      "execution_count": 63,
      "outputs": [
        {
          "output_type": "execute_result",
          "data": {
            "text/plain": [
              "<matplotlib.legend.Legend at 0x7fbd25d232e8>"
            ]
          },
          "metadata": {
            "tags": []
          },
          "execution_count": 63
        },
        {
          "output_type": "display_data",
          "data": {
            "image/png": "[encoded data removed]",
            "text/plain": [
              "<Figure size 432x288 with 1 Axes>"
            ]
          },
          "metadata": {
            "tags": [],
            "needs_background": "light"
          }
        }
      ]
    },
    {
      "cell_type": "code",
      "metadata": {
        "id": "OEUMO9W599Ni",
        "colab_type": "code",
        "colab": {
          "base_uri": "https://localhost:8080/",
          "height": 282
        },
        "outputId": "48006694-5e1d-4be8-8f3d-6c3e5eb7e7fa"
      },
      "source": [
        "for i in range(10):\n",
        "    plt.plot(fpr[i],tpr[i],lw=2,label='ROC curve for class %d with Area %0.2f'%(i,roc_auc[i]))\n",
        "plt.plot(fpr['micro'],tpr['micro'],lw=5,linestyle=\":\",label='ROC Micro Curve with Area %0.2f'%(roc_auc['micro']))\n",
        "plt.plot(fpr['macro'],tpr['macro'],lw=5,linestyle=\":\",label='ROC Macro Curve with Area %0.2f'%(roc_auc['macro']))\n",
        " \n",
        "plt.legend()"
      ],
      "execution_count": 64,
      "outputs": [
        {
          "output_type": "execute_result",
          "data": {
            "text/plain": [
              "<matplotlib.legend.Legend at 0x7fbd25cd8d30>"
            ]
          },
          "metadata": {
            "tags": []
          },
          "execution_count": 64
        },
        {
          "output_type": "display_data",
          "data": {
            "image/png": "[encoded data removed]",
            "text/plain": [
              "<Figure size 432x288 with 1 Axes>"
            ]
          },
          "metadata": {
            "tags": [],
            "needs_background": "light"
          }
        }
      ]
    },
    {
      "cell_type": "code",
      "metadata": {
        "id": "uxcwxz-6-Dct",
        "colab_type": "code",
        "colab": {}
      },
      "source": [
        "mAP=np.asanyarray([ap[i] for i in range(10)]).mean()"
      ],
      "execution_count": 65,
      "outputs": []
    },
    {
      "cell_type": "code",
      "metadata": {
        "id": "itsYUlN7-FLd",
        "colab_type": "code",
        "colab": {
          "base_uri": "https://localhost:8080/",
          "height": 34
        },
        "outputId": "74ab6773-bcf0-4342-ddd3-0389be2c65a9"
      },
      "source": [
        "mAP"
      ],
      "execution_count": 66,
      "outputs": [
        {
          "output_type": "execute_result",
          "data": {
            "text/plain": [
              "0.9625854212228251"
            ]
          },
          "metadata": {
            "tags": []
          },
          "execution_count": 66
        }
      ]
    }
  ]
}