{
  "nbformat": 4,
  "nbformat_minor": 0,
  "metadata": {
    "kernelspec": {
      "display_name": "Python 3",
      "language": "python",
      "name": "python3"
    },
    "language_info": {
      "codemirror_mode": {
        "name": "ipython",
        "version": 3
      },
      "file_extension": ".py",
      "mimetype": "text/x-python",
      "name": "python",
      "nbconvert_exporter": "python",
      "pygments_lexer": "ipython3",
      "version": "3.7.4"
    },
    "colab": {
      "name": "使用预训练模型.ipynb",
      "provenance": []
    },
    "accelerator": "GPU"
  },
  "cells": [
    {
      "cell_type": "code",
      "metadata": {
        "id": "nmTzKProqS9D",
        "colab_type": "code",
        "colab": {}
      },
      "source": [
        "from IPython.core.interactiveshell import InteractiveShell\n",
        "InteractiveShell.ast_node_interactivity = \"all\""
      ],
      "execution_count": 0,
      "outputs": []
    },
    {
      "cell_type": "code",
      "metadata": {
        "id": "rZ44kwdzqS9J",
        "colab_type": "code",
        "colab": {}
      },
      "source": [
        "import torch\n",
        "import torch.nn as nn\n",
        "import torch.optim as optim\n",
        "from torch.optim import lr_scheduler\n",
        "import numpy as np\n",
        "import torchvision\n",
        "from torchvision import datasets, models, transforms\n",
        "import matplotlib.pyplot as plt\n",
        "import time\n",
        "import os\n",
        "import copy"
      ],
      "execution_count": 0,
      "outputs": []
    },
    {
      "cell_type": "code",
      "metadata": {
        "id": "yXm29pj6qS9N",
        "colab_type": "code",
        "colab": {
          "base_uri": "https://localhost:8080/",
          "height": 53
        },
        "outputId": "958f54ca-4a9d-480f-a943-0fce2bb105a4"
      },
      "source": [
        "data_transforms = {\n",
        "    'train': transforms.Compose([\n",
        "        transforms.RandomResizedCrop(224),\n",
        "        transforms.RandomHorizontalFlip(),\n",
        "        transforms.ToTensor(),\n",
        "        transforms.Normalize([0.485, 0.456, 0.406], [0.229, 0.224, 0.225])\n",
        "    ]),\n",
        "    'val': transforms.Compose([\n",
        "        transforms.Resize(256),\n",
        "        transforms.CenterCrop(224),\n",
        "        transforms.ToTensor(),\n",
        "        transforms.Normalize([0.485, 0.456, 0.406], [0.229, 0.224, 0.225])\n",
        "    ]),\n",
        "    'test':  transforms.Compose([\n",
        "        transforms.ToTensor(),\n",
        "        transforms.Normalize([0.4914, 0.48216, 0.44653],[0.24703, 0.24349, 0.26159])\n",
        "    ])\n",
        "}\n",
        "\n",
        "trainset = torchvision.datasets.CIFAR10(root='./',\n",
        "                    train=True,download=True,\n",
        "                    transform=data_transforms['train'])\n",
        "valset=torchvision.datasets.CIFAR10(root='./',\n",
        "                  train=True,download=True,\n",
        "                  transform=data_transforms['val'])\n",
        "\n",
        "indices = np.arange(50000)\n",
        "np.random.shuffle(indices)\n",
        "train_loader = torch.utils.data.DataLoader(trainset,batch_size=1000, shuffle=False, sampler=torch.utils.data.SubsetRandomSampler(indices[:45000]))\n",
        "val_loader = torch.utils.data.DataLoader(valset,batch_size=1000, shuffle=False, sampler=torch.utils.data.SubsetRandomSampler(indices[45000:50000]))\n",
        "\n"
      ],
      "execution_count": 3,
      "outputs": [
        {
          "output_type": "stream",
          "text": [
            "Files already downloaded and verified\n",
            "Files already downloaded and verified\n"
          ],
          "name": "stdout"
        }
      ]
    },
    {
      "cell_type": "code",
      "metadata": {
        "id": "lqkrG1JgqS9R",
        "colab_type": "code",
        "colab": {}
      },
      "source": [
        "class_names = trainset.classes\n",
        "# device = torch.device(\"cuda\" if torch.cuda.is_available() else \"cpu\")\n",
        "# device = torch.device(\"cpu\")\n",
        "device = torch.device(\"cuda:0\" if torch.cuda.is_available() else \"cpu\")\n",
        "dataloaders={'train':train_loader,'val':val_loader}\n",
        "dataset_sizes = {'train':45000,'val':5000}"
      ],
      "execution_count": 0,
      "outputs": []
    },
    {
      "cell_type": "code",
      "metadata": {
        "id": "cQ_gjickqS9W",
        "colab_type": "code",
        "colab": {
          "base_uri": "https://localhost:8080/",
          "height": 197
        },
        "outputId": "fb82a62a-e665-4c76-dbc3-e1065e897b9c"
      },
      "source": [
        "class_names"
      ],
      "execution_count": 5,
      "outputs": [
        {
          "output_type": "execute_result",
          "data": {
            "text/plain": [
              "['airplane',\n",
              " 'automobile',\n",
              " 'bird',\n",
              " 'cat',\n",
              " 'deer',\n",
              " 'dog',\n",
              " 'frog',\n",
              " 'horse',\n",
              " 'ship',\n",
              " 'truck']"
            ]
          },
          "metadata": {
            "tags": []
          },
          "execution_count": 5
        }
      ]
    },
    {
      "cell_type": "code",
      "metadata": {
        "id": "pIWrfyOTqS9Z",
        "colab_type": "code",
        "colab": {}
      },
      "source": [
        "def train_model(model, criterion, optimizer, scheduler, num_epochs=25):\n",
        "    since = time.time()\n",
        "\n",
        "    best_model_wts = copy.deepcopy(model.state_dict())\n",
        "    best_acc = 0.0\n",
        "\n",
        "    for epoch in range(num_epochs):\n",
        "        print('Epoch {}/{}'.format(epoch, num_epochs - 1))\n",
        "        print('-' * 10)\n",
        "\n",
        "        # Each epoch has a training and validation phase\n",
        "        for phase in ['train', 'val']:\n",
        "            \n",
        "            print(phase,':',time.strftime(\"%Y--%m--%d %H:%M:%S\", time.localtime(int(time.time()))))\n",
        "            if phase == 'train':\n",
        "                scheduler.step()\n",
        "                model.train()  # Set model to training mode\n",
        "            else:\n",
        "                model.eval()   # Set model to evaluate mode\n",
        "\n",
        "            running_loss = 0.0\n",
        "            running_corrects = 0\n",
        "\n",
        "            # Iterate over data.\n",
        "            for inputs, labels in dataloaders[phase]:\n",
        "                inputs = inputs.to(device)\n",
        "                labels = labels.to(device)\n",
        "\n",
        "                # zero the parameter gradients\n",
        "#                 print('2:',time.time())\n",
        "                optimizer.zero_grad()\n",
        "\n",
        "                # forward\n",
        "                # track history if only in train\n",
        "                with torch.set_grad_enabled(phase == 'train'):\n",
        "#                     print('3:',time.time())\n",
        "                    outputs = model(inputs)\n",
        "                    _, preds = torch.max(outputs, 1)\n",
        "#                     print('4:',time.time())\n",
        "                    loss = criterion(outputs, labels)\n",
        "#                     print('5:',time.time())\n",
        "                    # backward + optimize only if in training phase\n",
        "                    if phase == 'train':\n",
        "                        loss.backward()\n",
        "                        optimizer.step()\n",
        "\n",
        "                # statistics\n",
        "                running_loss += loss.item() * inputs.size(0)\n",
        "                running_corrects += torch.sum(preds == labels.data)\n",
        "\n",
        "            epoch_loss = running_loss / dataset_sizes[phase]\n",
        "            epoch_acc = running_corrects.double() / dataset_sizes[phase]\n",
        "\n",
        "            print('{} Loss: {:.4f} Acc: {:.4f}'.format(\n",
        "                phase, epoch_loss, epoch_acc))\n",
        "\n",
        "            # deep copy the model\n",
        "            if phase == 'val' and epoch_acc > best_acc:\n",
        "                best_acc = epoch_acc\n",
        "                best_model_wts = copy.deepcopy(model.state_dict())\n",
        "\n",
        "        print()\n",
        "\n",
        "    time_elapsed = time.time() - since\n",
        "    print('Training complete in {:.0f}m {:.0f}s'.format(\n",
        "        time_elapsed // 60, time_elapsed % 60))\n",
        "    print('Best val Acc: {:4f}'.format(best_acc))\n",
        "\n",
        "    # load best model weights\n",
        "    model.load_state_dict(best_model_wts)\n",
        "    return model"
      ],
      "execution_count": 0,
      "outputs": []
    },
    {
      "cell_type": "code",
      "metadata": {
        "id": "UR2bwKQBqS9c",
        "colab_type": "code",
        "colab": {}
      },
      "source": [
        "alex = models.alexnet(pretrained=True)\n",
        "#pthfile = r'E:\\KaiKeBa\\基础班\\Python\\第六章\\第四节\\4-CNN(2)\\models\\alexnet-owt-4df8aa71.pth'\n",
        "#alex.load_state_dict(torch.load(pthfile))\n",
        "for param, name in zip(alex.parameters(), alex.state_dict().keys()):\n",
        "    param.requires_grad = False\n",
        "    \n",
        "alex.classifier[6] = nn.Linear(4096, 10)\n",
        "\n",
        "# for param, name in zip(alex.parameters(), alex.state_dict().keys()):\n",
        "#     print(name,\":\", param.requires_grad)\n",
        "# print(alex)\n",
        "criterion = nn.CrossEntropyLoss()\n",
        "# # Observe that all parameters are being optimized\n",
        "optimizer = optim.SGD(alex.parameters(), lr=0.001, momentum=0.9)  # 随机梯度下降\n",
        "# optimizer = optim.Adam(alex.parameters(), lr=3e-4)\n",
        "# # Decay LR by a factor of 0.1 every 7 epochs\n",
        "exp_lr_scheduler = lr_scheduler.StepLR(optimizer, step_size=7, gamma=0.1)"
      ],
      "execution_count": 0,
      "outputs": []
    },
    {
      "cell_type": "code",
      "metadata": {
        "id": "T-pj__khqS9h",
        "colab_type": "code",
        "colab": {
          "base_uri": "https://localhost:8080/",
          "height": 1000
        },
        "outputId": "a50cdefb-3714-4b46-a3f7-2719a3bb131d"
      },
      "source": [
        "train_model(alex.to(device), criterion, optimizer, exp_lr_scheduler, num_epochs=10)"
      ],
      "execution_count": 8,
      "outputs": [
        {
          "output_type": "stream",
          "text": [
            "Epoch 0/9\n",
            "----------\n",
            "train : 2020--06--11 05:35:11\n"
          ],
          "name": "stdout"
        },
        {
          "output_type": "stream",
          "text": [
            "/usr/local/lib/python3.6/dist-packages/torch/optim/lr_scheduler.py:123: UserWarning: Detected call of `lr_scheduler.step()` before `optimizer.step()`. In PyTorch 1.1.0 and later, you should call them in the opposite order: `optimizer.step()` before `lr_scheduler.step()`.  Failure to do this will result in PyTorch skipping the first value of the learning rate schedule. See more details at https://pytorch.org/docs/stable/optim.html#how-to-adjust-learning-rate\n",
            "  \"https://pytorch.org/docs/stable/optim.html#how-to-adjust-learning-rate\", UserWarning)\n"
          ],
          "name": "stderr"
        },
        {
          "output_type": "stream",
          "text": [
            "train Loss: 1.7185 Acc: 0.3921\n",
            "val : 2020--06--11 05:37:05\n",
            "val Loss: 1.0473 Acc: 0.6484\n",
            "\n",
            "Epoch 1/9\n",
            "----------\n",
            "train : 2020--06--11 05:37:18\n",
            "train Loss: 1.3096 Acc: 0.5388\n",
            "val : 2020--06--11 05:39:07\n",
            "val Loss: 0.8973 Acc: 0.6980\n",
            "\n",
            "Epoch 2/9\n",
            "----------\n",
            "train : 2020--06--11 05:39:20\n",
            "train Loss: 1.2401 Acc: 0.5615\n",
            "val : 2020--06--11 05:41:08\n",
            "val Loss: 0.8369 Acc: 0.7162\n",
            "\n",
            "Epoch 3/9\n",
            "----------\n",
            "train : 2020--06--11 05:41:20\n",
            "train Loss: 1.2085 Acc: 0.5713\n",
            "val : 2020--06--11 05:43:07\n",
            "val Loss: 0.7955 Acc: 0.7378\n",
            "\n",
            "Epoch 4/9\n",
            "----------\n",
            "train : 2020--06--11 05:43:19\n",
            "train Loss: 1.1857 Acc: 0.5764\n",
            "val : 2020--06--11 05:45:04\n",
            "val Loss: 0.7710 Acc: 0.7406\n",
            "\n",
            "Epoch 5/9\n",
            "----------\n",
            "train : 2020--06--11 05:45:16\n",
            "train Loss: 1.1703 Acc: 0.5840\n",
            "val : 2020--06--11 05:47:01\n",
            "val Loss: 0.7502 Acc: 0.7462\n",
            "\n",
            "Epoch 6/9\n",
            "----------\n",
            "train : 2020--06--11 05:47:14\n",
            "train Loss: 1.1510 Acc: 0.5931\n",
            "val : 2020--06--11 05:48:58\n",
            "val Loss: 0.7473 Acc: 0.7456\n",
            "\n",
            "Epoch 7/9\n",
            "----------\n",
            "train : 2020--06--11 05:49:10\n",
            "train Loss: 1.1585 Acc: 0.5891\n",
            "val : 2020--06--11 05:50:55\n",
            "val Loss: 0.7459 Acc: 0.7464\n",
            "\n",
            "Epoch 8/9\n",
            "----------\n",
            "train : 2020--06--11 05:51:07\n",
            "train Loss: 1.1552 Acc: 0.5912\n",
            "val : 2020--06--11 05:52:52\n",
            "val Loss: 0.7447 Acc: 0.7474\n",
            "\n",
            "Epoch 9/9\n",
            "----------\n",
            "train : 2020--06--11 05:53:04\n",
            "train Loss: 1.1521 Acc: 0.5912\n",
            "val : 2020--06--11 05:54:49\n",
            "val Loss: 0.7424 Acc: 0.7488\n",
            "\n",
            "Training complete in 19m 50s\n",
            "Best val Acc: 0.748800\n"
          ],
          "name": "stdout"
        },
        {
          "output_type": "execute_result",
          "data": {
            "text/plain": [
              "AlexNet(\n",
              "  (features): Sequential(\n",
              "    (0): Conv2d(3, 64, kernel_size=(11, 11), stride=(4, 4), padding=(2, 2))\n",
              "    (1): ReLU(inplace=True)\n",
              "    (2): MaxPool2d(kernel_size=3, stride=2, padding=0, dilation=1, ceil_mode=False)\n",
              "    (3): Conv2d(64, 192, kernel_size=(5, 5), stride=(1, 1), padding=(2, 2))\n",
              "    (4): ReLU(inplace=True)\n",
              "    (5): MaxPool2d(kernel_size=3, stride=2, padding=0, dilation=1, ceil_mode=False)\n",
              "    (6): Conv2d(192, 384, kernel_size=(3, 3), stride=(1, 1), padding=(1, 1))\n",
              "    (7): ReLU(inplace=True)\n",
              "    (8): Conv2d(384, 256, kernel_size=(3, 3), stride=(1, 1), padding=(1, 1))\n",
              "    (9): ReLU(inplace=True)\n",
              "    (10): Conv2d(256, 256, kernel_size=(3, 3), stride=(1, 1), padding=(1, 1))\n",
              "    (11): ReLU(inplace=True)\n",
              "    (12): MaxPool2d(kernel_size=3, stride=2, padding=0, dilation=1, ceil_mode=False)\n",
              "  )\n",
              "  (avgpool): AdaptiveAvgPool2d(output_size=(6, 6))\n",
              "  (classifier): Sequential(\n",
              "    (0): Dropout(p=0.5, inplace=False)\n",
              "    (1): Linear(in_features=9216, out_features=4096, bias=True)\n",
              "    (2): ReLU(inplace=True)\n",
              "    (3): Dropout(p=0.5, inplace=False)\n",
              "    (4): Linear(in_features=4096, out_features=4096, bias=True)\n",
              "    (5): ReLU(inplace=True)\n",
              "    (6): Linear(in_features=4096, out_features=10, bias=True)\n",
              "  )\n",
              ")"
            ]
          },
          "metadata": {
            "tags": []
          },
          "execution_count": 8
        }
      ]
    },
    {
      "cell_type": "code",
      "metadata": {
        "id": "Lsr8EgDTqS9t",
        "colab_type": "code",
        "colab": {}
      },
      "source": [
        ""
      ],
      "execution_count": 0,
      "outputs": []
    }
  ]
}