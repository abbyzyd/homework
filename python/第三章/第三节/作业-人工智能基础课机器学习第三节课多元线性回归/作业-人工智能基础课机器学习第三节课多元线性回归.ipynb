{
 "cells": [
  {
   "cell_type": "markdown",
   "metadata": {},
   "source": [
    "![](https://img.kaikeba.com/web/kkb_index/img_index_logo.png)"
   ]
  },
  {
   "cell_type": "markdown",
   "metadata": {},
   "source": [
    "# 人工智能基础课机器学习 第三节课作业 线性回归\n",
    "\n",
    "同学们大家好，本次作业是考察学生对线性回归的理解与SKLearn的使用，以及pandas的使用。\n",
    "\n",
    "本次作业的数据集：data.csv\n",
    "这份数据代表了一个循环发电厂，每个数据有5列，分别是:AT（温度）, V（压力）, AP（湿度）, RH（压强）, PE（输出电力)\n",
    "\n",
    "问题是得到一个线性的关系，对应PE是样本输出，而AT/V/AP/RH这4个是样本特征， 机器学习的目的就是得到一个线性回归模型，即: PE=W0+W1∗AT+W2∗V+W3∗AP+W4∗RH 而需要学习的，就是W0,W1,W2,W3,W4这5个参数。\n"
   ]
  },
  {
   "cell_type": "code",
   "execution_count": 2,
   "metadata": {},
   "outputs": [],
   "source": [
    "import pandas as pd\n",
    "from sklearn import linear_model,metrics\n",
    "import numpy as np"
   ]
  },
  {
   "cell_type": "markdown",
   "metadata": {},
   "source": [
    "# 第一步：读取样本数据，并将数据集分为训练集和测试集\n",
    "\n",
    "\n"
   ]
  },
  {
   "cell_type": "code",
   "execution_count": 3,
   "metadata": {},
   "outputs": [
    {
     "data": {
      "text/html": [
       "<div>\n",
       "<style scoped>\n",
       "    .dataframe tbody tr th:only-of-type {\n",
       "        vertical-align: middle;\n",
       "    }\n",
       "\n",
       "    .dataframe tbody tr th {\n",
       "        vertical-align: top;\n",
       "    }\n",
       "\n",
       "    .dataframe thead th {\n",
       "        text-align: right;\n",
       "    }\n",
       "</style>\n",
       "<table border=\"1\" class=\"dataframe\">\n",
       "  <thead>\n",
       "    <tr style=\"text-align: right;\">\n",
       "      <th></th>\n",
       "      <th>AT</th>\n",
       "      <th>V</th>\n",
       "      <th>AP</th>\n",
       "      <th>RH</th>\n",
       "      <th>PE</th>\n",
       "    </tr>\n",
       "  </thead>\n",
       "  <tbody>\n",
       "    <tr>\n",
       "      <td>0</td>\n",
       "      <td>8.34</td>\n",
       "      <td>40.77</td>\n",
       "      <td>1010.84</td>\n",
       "      <td>90.01</td>\n",
       "      <td>480.48</td>\n",
       "    </tr>\n",
       "    <tr>\n",
       "      <td>1</td>\n",
       "      <td>23.64</td>\n",
       "      <td>58.49</td>\n",
       "      <td>1011.40</td>\n",
       "      <td>74.20</td>\n",
       "      <td>445.75</td>\n",
       "    </tr>\n",
       "    <tr>\n",
       "      <td>2</td>\n",
       "      <td>29.74</td>\n",
       "      <td>56.90</td>\n",
       "      <td>1007.15</td>\n",
       "      <td>41.91</td>\n",
       "      <td>438.76</td>\n",
       "    </tr>\n",
       "    <tr>\n",
       "      <td>3</td>\n",
       "      <td>19.07</td>\n",
       "      <td>49.69</td>\n",
       "      <td>1007.22</td>\n",
       "      <td>76.79</td>\n",
       "      <td>453.09</td>\n",
       "    </tr>\n",
       "    <tr>\n",
       "      <td>4</td>\n",
       "      <td>11.80</td>\n",
       "      <td>40.66</td>\n",
       "      <td>1017.13</td>\n",
       "      <td>97.20</td>\n",
       "      <td>464.43</td>\n",
       "    </tr>\n",
       "    <tr>\n",
       "      <td>...</td>\n",
       "      <td>...</td>\n",
       "      <td>...</td>\n",
       "      <td>...</td>\n",
       "      <td>...</td>\n",
       "      <td>...</td>\n",
       "    </tr>\n",
       "    <tr>\n",
       "      <td>9563</td>\n",
       "      <td>15.12</td>\n",
       "      <td>48.92</td>\n",
       "      <td>1011.80</td>\n",
       "      <td>72.93</td>\n",
       "      <td>462.59</td>\n",
       "    </tr>\n",
       "    <tr>\n",
       "      <td>9564</td>\n",
       "      <td>33.41</td>\n",
       "      <td>77.95</td>\n",
       "      <td>1010.30</td>\n",
       "      <td>59.72</td>\n",
       "      <td>432.90</td>\n",
       "    </tr>\n",
       "    <tr>\n",
       "      <td>9565</td>\n",
       "      <td>15.99</td>\n",
       "      <td>43.34</td>\n",
       "      <td>1014.20</td>\n",
       "      <td>78.66</td>\n",
       "      <td>465.96</td>\n",
       "    </tr>\n",
       "    <tr>\n",
       "      <td>9566</td>\n",
       "      <td>17.65</td>\n",
       "      <td>59.87</td>\n",
       "      <td>1018.58</td>\n",
       "      <td>94.65</td>\n",
       "      <td>450.93</td>\n",
       "    </tr>\n",
       "    <tr>\n",
       "      <td>9567</td>\n",
       "      <td>23.68</td>\n",
       "      <td>51.30</td>\n",
       "      <td>1011.86</td>\n",
       "      <td>71.24</td>\n",
       "      <td>451.67</td>\n",
       "    </tr>\n",
       "  </tbody>\n",
       "</table>\n",
       "<p>9568 rows × 5 columns</p>\n",
       "</div>"
      ],
      "text/plain": [
       "         AT      V       AP     RH      PE\n",
       "0      8.34  40.77  1010.84  90.01  480.48\n",
       "1     23.64  58.49  1011.40  74.20  445.75\n",
       "2     29.74  56.90  1007.15  41.91  438.76\n",
       "3     19.07  49.69  1007.22  76.79  453.09\n",
       "4     11.80  40.66  1017.13  97.20  464.43\n",
       "...     ...    ...      ...    ...     ...\n",
       "9563  15.12  48.92  1011.80  72.93  462.59\n",
       "9564  33.41  77.95  1010.30  59.72  432.90\n",
       "9565  15.99  43.34  1014.20  78.66  465.96\n",
       "9566  17.65  59.87  1018.58  94.65  450.93\n",
       "9567  23.68  51.30  1011.86  71.24  451.67\n",
       "\n",
       "[9568 rows x 5 columns]"
      ]
     },
     "execution_count": 3,
     "metadata": {},
     "output_type": "execute_result"
    }
   ],
   "source": [
    "df= pd.read_csv('./data.csv')\n",
    "df"
   ]
  },
  {
   "cell_type": "code",
   "execution_count": 4,
   "metadata": {},
   "outputs": [
    {
     "name": "stdout",
     "output_type": "stream",
     "text": [
      "训练集X \n",
      " [[   8.34   40.77 1010.84   90.01]\n",
      " [  23.64   58.49 1011.4    74.2 ]\n",
      " [  29.74   56.9  1007.15   41.91]\n",
      " ...\n",
      " [  25.73   62.66 1010.15   54.66]\n",
      " [  25.21   64.63 1020.56   51.31]\n",
      " [  18.93   48.6  1005.72   84.92]] \n",
      " (8068, 4)\n",
      "训练集Y \n",
      " [[480.48]\n",
      " [445.75]\n",
      " [438.76]\n",
      " ...\n",
      " [444.85]\n",
      " [448.66]\n",
      " [449.74]] \n",
      " (8068, 1)\n"
     ]
    }
   ],
   "source": [
    "X=df.loc[:,'AT':'RH']\n",
    "Y=df.loc[:,'PE']\n",
    "X=np.array(X)\n",
    "Y=np.array(Y).reshape((len(df),1))\n",
    "X_train=np.array(X)[:-1500]\n",
    "print('训练集X','\\n',X_train,'\\n',X_train.shape)\n",
    "Y_train=np.array(Y)[:-1500]\n",
    "print('训练集Y','\\n',Y_train,'\\n',Y_train.shape)"
   ]
  },
  {
   "cell_type": "code",
   "execution_count": 5,
   "metadata": {},
   "outputs": [
    {
     "name": "stdout",
     "output_type": "stream",
     "text": [
      "测试集X \n",
      " [[  28.84   75.6  1018.41   53.96]\n",
      " [  32.43   68.31 1010.09   42.22]\n",
      " [  25.77   58.59 1012.51   55.84]\n",
      " ...\n",
      " [  15.99   43.34 1014.2    78.66]\n",
      " [  17.65   59.87 1018.58   94.65]\n",
      " [  23.68   51.3  1011.86   71.24]] \n",
      " (1500, 4)\n",
      "测试集Y \n",
      " [[442.69]\n",
      " [439.75]\n",
      " [449.65]\n",
      " ...\n",
      " [465.96]\n",
      " [450.93]\n",
      " [451.67]] \n",
      " (1500, 1)\n"
     ]
    }
   ],
   "source": [
    "X_test=np.array(X)[-1500:]\n",
    "print('测试集X','\\n',X_test,'\\n',X_test.shape)\n",
    "Y_test=np.array(Y)[-1500:]\n",
    "print('测试集Y','\\n',Y_test,'\\n',Y_test.shape)"
   ]
  },
  {
   "cell_type": "markdown",
   "metadata": {},
   "source": [
    "#  第二步：训练Linear Regreesion模型，得到训练参数"
   ]
  },
  {
   "cell_type": "code",
   "execution_count": 6,
   "metadata": {},
   "outputs": [
    {
     "name": "stdout",
     "output_type": "stream",
     "text": [
      "参数W1,W2,W3,W4： [[-1.96879008 -0.23569541  0.06419842 -0.15706691]]\n",
      "参数W0： [452.29363787]\n",
      "Model: PE=(452.29)+(-1.97)*AT+(-0.24)*V+(0.06)*AP+(-0.16)*RH\n"
     ]
    }
   ],
   "source": [
    "regr=linear_model.LinearRegression()\n",
    "regr.fit(X_train,Y_train)\n",
    "coef=regr.coef_\n",
    "intercept=regr.intercept_\n",
    "print('参数W1,W2,W3,W4：',coef)\n",
    "print('参数W0：',intercept)\n",
    "#PE=W0+W1∗AT+W2∗V+W3∗AP+W4∗RH\n",
    "print('Model:','PE=({W0})+({W1})*AT+({W2})*V+({W3})*AP+({W4})*RH'.format(W0='%.2f'%intercept[0],W1='%.2f'%coef[0][0],W2='%.2f'%coef[0][1],W3='%.2f'%coef[0][2],W4='%.2f'%coef[0][3]))"
   ]
  },
  {
   "cell_type": "markdown",
   "metadata": {},
   "source": [
    "# 第三步：使用均方误差和均方根误差在测试集上的表现来评价模型的好坏。\n",
    "\n"
   ]
  },
  {
   "cell_type": "code",
   "execution_count": 9,
   "metadata": {},
   "outputs": [
    {
     "name": "stdout",
     "output_type": "stream",
     "text": [
      "模型预测值Y\n",
      " [[434.60014014]\n",
      " [430.56023792]\n",
      " [443.97944812]\n",
      " ...\n",
      " [463.35279858]\n",
      " [453.95825121]\n",
      " [447.35187958]] \n",
      " (1500, 1)\n",
      "均方误差（没有多个模型对比的情况下，这个指标不能确定模型训练的效果）： 20.140986320888178\n",
      "均方根误差（没有多个模型对比的情况下，这个指标不能确定模型训练的效果）： 4.48787102320111\n",
      "R平方值（越接近1，模型越好）： 0.9330351946511213\n"
     ]
    }
   ],
   "source": [
    "Y_test_predict=regr.predict(X_test)\n",
    "print('模型预测值Y\\n',Y_test_predict,'\\n',Y_test_predict.shape)\n",
    "mse=metrics.mean_squared_error(Y_test,Y_test_predict)\n",
    "print('均方误差（没有多个模型对比的情况下，这个指标不能确定模型训练的效果）：',mse)\n",
    "print('均方根误差（没有多个模型对比的情况下，这个指标不能确定模型训练的效果）：',np.sqrt(mse))\n",
    "#print(regr.score(X_test,Y_test))\n",
    "r2_score=metrics.r2_score(Y_test,Y_test_predict)\n",
    "#r2_score越接近1，模型越好\n",
    "print('R平方值（越接近1，模型越好）：',r2_score)"
   ]
  },
  {
   "cell_type": "markdown",
   "metadata": {},
   "source": [
    "# 第四步：可视化的方式直观的表示模型学习效果的好坏\n",
    "\n"
   ]
  },
  {
   "cell_type": "code",
   "execution_count": 10,
   "metadata": {},
   "outputs": [
    {
     "data": {
      "image/png": "[encoded data removed]",
      "text/plain": [
       "<Figure size 432x288 with 1 Axes>"
      ]
     },
     "metadata": {
      "needs_background": "light"
     },
     "output_type": "display_data"
    }
   ],
   "source": [
    "import matplotlib.pyplot as plt\n",
    "#fig, ax = plt.subplots()\n",
    "fig = plt.figure()\n",
    "plt.rcParams['font.family'] = ['sans-serif']\n",
    "plt.rcParams['font.sans-serif'] = ['SimHei']\n",
    "ax = fig.add_subplot(1,1,1)\n",
    "ax.scatter(Y_test, Y_test_predict)\n",
    "ax.plot([Y_test.min(), Y_test.max()], [Y_test.min(), Y_test.max()], 'k--', lw=4) #k--黑色虚线，lw代表粗细程度\n",
    "ax.set_xlabel('测试集Y')\n",
    "ax.set_ylabel('模型预测值Y')\n",
    "plt.show()\n"
   ]
  },
  {
   "cell_type": "markdown",
   "metadata": {},
   "source": [
    "对于输出y来说，真实值和预测值都是一维的，同时，真实值和预测值一一对应，它们之间的差值越小，预测越准确。显然，如果预测值=真实值，那么它们的差值最小，即上图中的黑色虚线。横坐标是真实值，纵坐标是预测值，那么对于所有的真实值，预测值离着黑线越近，预测越准确。"
   ]
  }
 ],
 "metadata": {
  "kernelspec": {
   "display_name": "Python 3",
   "language": "python",
   "name": "python3"
  },
  "language_info": {
   "codemirror_mode": {
    "name": "ipython",
    "version": 3
   },
   "file_extension": ".py",
   "mimetype": "text/x-python",
   "name": "python",
   "nbconvert_exporter": "python",
   "pygments_lexer": "ipython3",
   "version": "3.7.4"
  }
 },
 "nbformat": 4,
 "nbformat_minor": 4
}
