{
 "cells": [
  {
   "cell_type": "markdown",
   "metadata": {},
   "source": [
    "![](https://img.kaikeba.com/web/kkb_index/img_index_logo.png)\n",
    "# 基础课第一部分（python）第四次作业  \n",
    "同学们～大家好！欢迎大家来到基础课python部分作业，本次作业有两个部分，理论部分 和 编程实践部分。\n",
    "## 理论部分\n",
    "### 1. python中可以使用`import`导入哪些对象？"
   ]
  },
  {
   "cell_type": "markdown",
   "metadata": {},
   "source": [
    "你的回答：Python的标准库，包（package，文件夹），模块（module），模块里的对象（函数，类，变量等）"
   ]
  },
  {
   "cell_type": "markdown",
   "metadata": {},
   "source": [
    "### 2. 机器学习和函数/模块的思想有哪些异同？"
   ]
  },
  {
   "cell_type": "markdown",
   "metadata": {},
   "source": [
    "你的回答：机器学习和函数/模块的不同点：\n",
    "       1）机器学习是利用数据 𝑥 , 𝑦 ，需要通过模型拟合 𝑥 与 𝑦 之间的函数关系 𝑓  利用 𝑥 , 𝑦  选择一部分数据集进行学习 𝑓，可解释性比较差\n",
    "       2）函数/模块是开发者分析问题，伪码实现整个流程的业务逻辑，最后编写代码，每一步均有明确地可解释性\n",
    "       机器学习和函数/模块的相同点：\n",
    "       机器学习和函数/模块最后都需要利用数据验证效果"
   ]
  },
  {
   "cell_type": "markdown",
   "metadata": {},
   "source": [
    "## 编程实践部分\n",
    "### 3. 安装 `numpy`, `matplotlib`,`sklearn`包, 并测试是否安装完成  \n",
    "如果遇到错误，请阅读错误并尝试自己解决  \n",
    "执行以下代码不报错\n",
    "``` python\n",
    "import numpy as np\n",
    "import matplotlib \n",
    "import sklearn\n",
    "```\n",
    "### 4. 打乱数据集  \n",
    "同时打乱 x,y，保证数据和标签的对应关系\n",
    "``` python\n",
    "x = ['快递太慢了！','不好吃','特别难吃','要齁死我了','很划算','下次还来','味道很不错！','香']\n",
    "y = ['差评','差评','差评','差评','好评','好评','好评','好评']\n",
    "```"
   ]
  },
  {
   "cell_type": "code",
   "execution_count": 18,
   "metadata": {},
   "outputs": [
    {
     "name": "stdout",
     "output_type": "stream",
     "text": [
      "package installed successfully\n",
      "numpy version:1.16.2\n",
      "matplotlib version:3.0.3\n",
      "sklearn version:0.20.3\n"
     ]
    }
   ],
   "source": [
    "import numpy as np\n",
    "import matplotlib\n",
    "import sklearn\n",
    "\n",
    "print('package installed successfully')\n",
    "print('numpy version:{0}'.format(np.version.version))\n",
    "print('matplotlib version:{0}'.format(matplotlib.__version__))  \n",
    "print('sklearn version:{0}'.format(sklearn.__version__))  \n"
   ]
  },
  {
   "cell_type": "code",
   "execution_count": 50,
   "metadata": {},
   "outputs": [
    {
     "name": "stdout",
     "output_type": "stream",
     "text": [
      "==========原来的排序==========\n",
      "快递太慢了！ : 差评\n",
      "不好吃 : 差评\n",
      "特别难吃 : 差评\n",
      "要齁死我了 : 差评\n",
      "很划算 : 好评\n",
      "下次还来 : 好评\n",
      "味道很不错！ : 好评\n",
      "香 : 好评\n",
      "==========打乱后的排序==========\n",
      "香 : 好评\n",
      "下次还来 : 好评\n",
      "快递太慢了！ : 差评\n",
      "要齁死我了 : 差评\n",
      "味道很不错！ : 好评\n",
      "不好吃 : 差评\n",
      "特别难吃 : 差评\n",
      "很划算 : 好评\n"
     ]
    }
   ],
   "source": [
    "# your code\n",
    "# you may need import some package\n",
    "import random \n",
    "x = ['快递太慢了！','不好吃','特别难吃','要齁死我了','很划算','下次还来','味道很不错！','香']\n",
    "y = ['差评','差评','差评','差评','好评','好评','好评','好评']\n",
    "\n",
    "def shuffle(x,y):\n",
    "    list_zip=list(zip(x,y))\n",
    "    random.shuffle(list_zip)\n",
    "    #若需要new一个列表，需要使用random.sample\n",
    "    list_unzip=list(zip(*list_zip))\n",
    "    x=list_unzip[0]\n",
    "    y=list_unzip[1]\n",
    "    return x,y\n",
    "\n",
    "\n",
    "\n",
    "# print result for certify\n",
    "print('{0}原来的排序{1}'.format(10*'=',10*'='))\n",
    "for i,j in zip(x,y):\n",
    "    print(i,':',j)\n",
    "    \n",
    "x,y=shuffle(x,y)\n",
    "\n",
    "print('{0}打乱后的排序{1}'.format(10*'=',10*'='))\n",
    "for i,j in zip(x,y):\n",
    "    print(i,':',j)"
   ]
  },
  {
   "cell_type": "markdown",
   "metadata": {},
   "source": [
    "### 5. 单词统计  \n",
    "使用函数，统计每个单词的出现次数，返回字典(查阅资料导入已完成此功能的包)\n",
    "``` python\n",
    "text = '2019 年 十月 一日 上午 ， 庆祝 中华人民共和国 成立 70 周年 阅兵式 在 首都北京 盛大举行 ， 59 个 阅兵 方阵 ， 580 台受 阅 装备 ， 1.5 万人 的 参阅 队伍 接受 了 全国 人民 的 检阅 。 阅兵 装备 方队 展示 的 武器装备 皆 为 国产 现役 主战 装备 ， 40% 为 首次 展示 。 其中 近些年来 广受 全球 关注 的 东风 41 洲际 弹道导弹 ， 巨浪 二潜射 弹道导弹 ， 东风 17 高超音速 武器 系统 终于 揭幕 亮剑 ， 以 \" 不怒 自威 \" 的 形象 向 世界 展示 中国 捍卫 和平 的 意志 与 力量 。 相较 于 其他 首度 公开 亮相 的 武器装备 ， 这 三款 武器 多年 来 传闻 不断 ， 备受 关注 ， 并 因 其 \" 大国 基石 \" 的 地位 而 被 公众 赋予 特殊 的 期待 ， 这 三款 武器装备 实力 究竟 如何 ， 又 各自 承担 着 怎样 的 历史 \" 使命 \" 呢 ？ 本报 特约 相关 领域 军事 专家 ， 为 大家 详细 解读 这 三款 彰显 国威 ， 震撼 世界 的 国 之 重器 。'\n",
    "```"
   ]
  },
  {
   "cell_type": "code",
   "execution_count": 79,
   "metadata": {},
   "outputs": [
    {
     "name": "stdout",
     "output_type": "stream",
     "text": [
      "{'1': 1.0, '17': 1.0, '2019': 1.0, '40': 1.0, '41': 1.0, '5': 1.0, '580': 1.0, '59': 1.0, '70': 1.0, '一日': 1.0, '万人': 1.0, '三款': 3.0, '上午': 1.0, '不怒': 1.0, '不断': 1.0, '与': 1.0, '专家': 1.0, '世界': 2.0, '东风': 2.0, '个': 1.0, '中华人民共和国': 1.0, '中国': 1.0, '为': 3.0, '主战': 1.0, '之': 1.0, '了': 1.0, '二潜射': 1.0, '于': 1.0, '亮剑': 1.0, '亮相': 1.0, '人民': 1.0, '以': 1.0, '传闻': 1.0, '使命': 1.0, '全国': 1.0, '全球': 1.0, '公众': 1.0, '公开': 1.0, '关注': 2.0, '其': 1.0, '其中': 1.0, '其他': 1.0, '军事': 1.0, '力量': 1.0, '十月': 1.0, '历史': 1.0, '参阅': 1.0, '又': 1.0, '台受': 1.0, '各自': 1.0, '向': 1.0, '呢': 1.0, '周年': 1.0, '和平': 1.0, '因': 1.0, '国': 1.0, '国产': 1.0, '国威': 1.0, '在': 1.0, '地位': 1.0, '基石': 1.0, '备受': 1.0, '多年': 1.0, '大国': 1.0, '大家': 1.0, '如何': 1.0, '实力': 1.0, '展示': 3.0, '巨浪': 1.0, '年': 1.0, '并': 1.0, '广受': 1.0, '庆祝': 1.0, '弹道导弹': 2.0, '形象': 1.0, '彰显': 1.0, '怎样': 1.0, '意志': 1.0, '成立': 1.0, '承担': 1.0, '捍卫': 1.0, '接受': 1.0, '揭幕': 1.0, '方队': 1.0, '方阵': 1.0, '期待': 1.0, '本报': 1.0, '来': 1.0, '检阅': 1.0, '武器': 2.0, '武器装备': 3.0, '洲际': 1.0, '特殊': 1.0, '特约': 1.0, '现役': 1.0, '的': 11.0, '皆': 1.0, '盛大举行': 1.0, '相关': 1.0, '相较': 1.0, '着': 1.0, '究竟': 1.0, '系统': 1.0, '终于': 1.0, '而': 1.0, '自威': 1.0, '被': 1.0, '装备': 3.0, '解读': 1.0, '详细': 1.0, '赋予': 1.0, '近些年来': 1.0, '这': 3.0, '重器': 1.0, '阅': 1.0, '阅兵': 2.0, '阅兵式': 1.0, '队伍': 1.0, '震撼': 1.0, '领域': 1.0, '首度': 1.0, '首次': 1.0, '首都北京': 1.0, '高超音速': 1.0}\n"
     ]
    }
   ],
   "source": [
    "# your code\n",
    "from sklearn.feature_extraction.text import TfidfTransformer\n",
    "from sklearn.feature_extraction.text import CountVectorizer\n",
    "\n",
    "def count_words(text):\n",
    "    word_list=list()\n",
    "    word_list.append(text)\n",
    "    # token_pattern指定统计词频的模式\n",
    "    count_vectorizer = CountVectorizer(token_pattern='\\\\b\\\\w+\\\\b')\n",
    "    # norm=None对词频结果不归一化\n",
    "    # use_idf=False, 使用tfidf函数计算, 忽略idf的计算\n",
    "    tfidf_transformer = TfidfTransformer(norm=None, use_idf=False)\n",
    "    words_tf = tfidf_transformer.fit_transform(count_vectorizer.fit_transform(word_list))\n",
    "    words = count_vectorizer.get_feature_names()\n",
    "    weight = words_tf.toarray()\n",
    "   \n",
    "    word_count=dict(zip(words,weight[0]))\n",
    "    return word_count\n",
    "\n",
    "# test \n",
    "text = '2019 年 十月 一日 上午 ， 庆祝 中华人民共和国 成立 70 周年 阅兵式 在 首都北京 盛大举行 ， 59 个 阅兵 方阵 ， 580 台受 阅 装备 ， 1.5 万人 的 参阅 队伍 接受 了 全国 人民 的 检阅 。 阅兵 装备 方队 展示 的 武器装备 皆 为 国产 现役 主战 装备 ， 40% 为 首次 展示 。 其中 近些年来 广受 全球 关注 的 东风 41 洲际 弹道导弹 ， 巨浪 二潜射 弹道导弹 ， 东风 17 高超音速 武器 系统 终于 揭幕 亮剑 ， 以 \" 不怒 自威 \" 的 形象 向 世界 展示 中国 捍卫 和平 的 意志 与 力量 。 相较 于 其他 首度 公开 亮相 的 武器装备 ， 这 三款 武器 多年 来 传闻 不断 ， 备受 关注 ， 并 因 其 \" 大国 基石 \" 的 地位 而 被 公众 赋予 特殊 的 期待 ， 这 三款 武器装备 实力 究竟 如何 ， 又 各自 承担 着 怎样 的 历史 \" 使命 \" 呢 ？ 本报 特约 相关 领域 军事 专家 ， 为 大家 详细 解读 这 三款 彰显 国威 ， 震撼 世界 的 国 之 重器 。'\n",
    "print(count_words(text))"
   ]
  },
  {
   "cell_type": "markdown",
   "metadata": {},
   "source": [
    "各位同学，我们已经学会了如何导包及安装包。  \n",
    "这个是后期AI课程的基础，大家一定要加油呀~\n",
    "![image alt <](http://5b0988e595225.cdn.sohucs.com/images/20190420/1d1070881fd540db817b2a3bdd967f37.gif)"
   ]
  }
 ],
 "metadata": {
  "kernelspec": {
   "display_name": "Python 3",
   "language": "python",
   "name": "python3"
  },
  "language_info": {
   "codemirror_mode": {
    "name": "ipython",
    "version": 3
   },
   "file_extension": ".py",
   "mimetype": "text/x-python",
   "name": "python",
   "nbconvert_exporter": "python",
   "pygments_lexer": "ipython3",
   "version": "3.7.3"
  }
 },
 "nbformat": 4,
 "nbformat_minor": 4
}
